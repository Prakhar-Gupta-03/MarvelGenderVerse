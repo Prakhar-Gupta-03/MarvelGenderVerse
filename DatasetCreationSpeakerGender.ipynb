{
 "cells": [
  {
   "cell_type": "code",
   "execution_count": 1,
   "metadata": {},
   "outputs": [],
   "source": [
    "import os\n",
    "import pandas as pd\n",
    "from tqdm import tqdm"
   ]
  },
  {
   "cell_type": "code",
   "execution_count": 35,
   "metadata": {},
   "outputs": [
    {
     "name": "stdout",
     "output_type": "stream",
     "text": [
      "Processed: avengers.csv\n",
      "Total characters: 56\n",
      "Unique characters: 56\n",
      "['THE OTHER', 'INTERCOM VOICE', 'FURY', 'AGENT COULSON', 'MARIA HILL', 'SELVIG', 'BARTON', 'NASA SCIENTIST', 'LOKI', 'GEORGI LUCHKOV', 'NATASHA', 'WEASELLY THUG', 'CALCUTTA WOMAN', 'YOUNG GIRL', 'BANNER', 'COUNCILMAN', 'COUNCILWOMAN', 'CAPTAIN AMERICA', 'PEGGY CARTER', 'SCIENTIST', 'STEVE', 'IRON MAN', 'PEPPER', 'TONY', 'JARVIS', 'FACELESS PILOT', 'HELICARRIER INTERCOM', 'CARRIER BRIDGE TECH 1', 'FEMALE CARRIER BRIDGE TECH', 'MALE AGENT', 'AGENT JASPER SITWELL', 'GERMAN OLD MAN', 'THOR', 'PILOT', 'NOVAR', 'OFF SCREEN WORKER', 'MAINTENANCE GUY', 'SHIELD AGENT', 'YOUNG SHIELD PILOT', 'SHIELD WORKER', 'SECURITY GUARD', 'SHIELD ENGINEER', 'YOUNG COP', 'POLICE SERGEANT', 'HULK', 'JET PILOT', 'REPORTER', 'MALE REPORTER', 'MALE CITIZEN', 'FEMALE CITIZEN', 'HUSBAND', 'WIFE', 'STAN LEE', 'THE SENATOR', 'WAITRESS', 'COUNCILMAN 2']\n"
     ]
    }
   ],
   "source": [
    "unique_characters = []\n",
    "\n",
    "csv_path = 'script_csv'\n",
    "filename = 'avengers.csv'\n",
    "# iterate folder\n",
    "with open(os.path.join(csv_path, filename)) as csv_file:\n",
    "    df = pd.read_csv(csv_file)\n",
    "    unique_characters.extend(df['character'].unique())\n",
    "print('Processed:', filename)\n",
    "\n",
    "\n",
    "print('Total characters:', len(unique_characters))\n",
    "print('Unique characters:', len(set(unique_characters)))\n",
    "print(unique_characters)"
   ]
  },
  {
   "cell_type": "code",
   "execution_count": 37,
   "metadata": {},
   "outputs": [
    {
     "name": "stdout",
     "output_type": "stream",
     "text": [
      "THE OTHER\n",
      "INTERCOM VOICE\n",
      "FURY\n",
      "AGENT COULSON\n",
      "SELVIG\n",
      "BARTON\n",
      "NASA SCIENTIST\n",
      "GEORGI LUCHKOV\n",
      "WEASELLY THUG\n",
      "CALCUTTA WOMAN\n",
      "YOUNG GIRL\n",
      "BANNER\n",
      "COUNCILMAN\n",
      "COUNCILWOMAN\n",
      "CAPTAIN AMERICA\n",
      "SCIENTIST\n",
      "IRON MAN\n",
      "PEPPER\n",
      "FACELESS PILOT\n",
      "HELICARRIER INTERCOM\n",
      "CARRIER BRIDGE TECH 1\n",
      "FEMALE CARRIER BRIDGE TECH\n",
      "AGENT JASPER SITWELL\n",
      "GERMAN OLD MAN\n",
      "PILOT\n",
      "NOVAR\n",
      "OFF SCREEN WORKER\n",
      "MAINTENANCE GUY\n",
      "SHIELD AGENT\n",
      "YOUNG SHIELD PILOT\n",
      "SHIELD WORKER\n",
      "SECURITY GUARD\n",
      "SHIELD ENGINEER\n",
      "YOUNG COP\n",
      "POLICE SERGEANT\n",
      "HULK\n",
      "JET PILOT\n",
      "REPORTER\n",
      "MALE REPORTER\n",
      "MALE CITIZEN\n",
      "FEMALE CITIZEN\n",
      "HUSBAND\n",
      "WIFE\n",
      "THE SENATOR\n",
      "WAITRESS\n",
      "COUNCILMAN 2\n"
     ]
    }
   ],
   "source": [
    "male = ['GRIEVING MAN','JIMMY','OLDER MAN','BRUCE BANNER','KID','FRIDAY','KORG','AKIHIKO','RONIN','ASTRAL BANNER','LOKI','BROCK RUMLOW',\n",
    "'AGENT SITWELL','SECURITY','STAN LEE','HANK PYM','MALE AGENT','HOODED FIGURE','RED SKULL','SAM WILSON','DR. STRANGE','WONG',\n",
    "'T’CHALLA','HAPPY HOGAN','BUCKY BARNES',\n",
    "    'CLINT BARTON','TONY STARK','STEVE ROGERS','THANOS','THOR','BRUCE BANNER','SCOTT LANG','JAMES RHODES','PETER QUILL','PETER PARKER','NICK FURY','TANELEER TIVAN','DRAX','GROOT','ROCKET','EBONY MAW','CORVUS GLAIVE','CULL OBSIDIAN','HOWARD STARK','EDWIN JARVIS','ALEXANDER PIERCE','JARVIS']\n",
    "\n",
    "\n",
    "\n",
    "female = ['CASSIE LANG','ANCIENT ONE','MAIDEN','GAMORA','FEMALE SHIELD AGENT','PEGGY CARTER','WANDA','NEBULA',\n",
    "    'LILA BARTON','LAURA BARTON','NATASHA ROMANOFF','CAROL DANVERS','WANDA MAXIMOFF','FRIGGA','PEPPER POTTS','SHURI','OKOYE','JANE FOSTER','MARIA HILL','VALKYRIE','MANTIS','THE ANCIENT ONE','HOPE VAN DYNE','JANET VAN DYNE','PEPPER POTTS','MORGAN STARK','HARLEY KEENER']\n",
    "\n",
    "\n",
    "t = ['TONY','STEVE','RHODEY','NATASHA','SMART HULK','BAD NEBULA','A1 NATASHA','A1 STEVE','A1 CLINT BARTON','LOKI/STEVE','A1 THOR',\n",
    "'A1 TONY','A1 HULK','QUILL','OLD STEVE']\n",
    "neutral = ['PARTY GUEST','M.P.','MUFFLED VOICE']\n",
    "\n",
    "for i in unique_characters:\n",
    "    if i not in male and i not in female and i not in t and i not in neutral:\n",
    "        print(i)\n",
    "# for i in unique_characters:\n",
    "    # if i in t:\n",
    "        # print(i)"
   ]
  },
  {
   "cell_type": "code",
   "execution_count": 32,
   "metadata": {},
   "outputs": [
    {
     "name": "stdout",
     "output_type": "stream",
     "text": [
      "64\n"
     ]
    }
   ],
   "source": [
    "csv = pd.read_csv(os.path.join(csv_path, filename))\n",
    "all_chars = csv['character'].values\n",
    "all_genders = []\n",
    "for i in all_chars:\n",
    "    if i in male:\n",
    "        all_genders.append(\"MALE\")\n",
    "    elif i in female:\n",
    "        all_genders.append(\"FEMALE\")\n",
    "    else:\n",
    "        all_genders.append(\"NEUTRAL\")\n",
    "csv['character'] = csv['character'].replace('TONY','TONY STARK')\n",
    "csv['character'] = csv['character'].replace('STEVE','STEVE ROGERS')\n",
    "csv['character'] = csv['character'].replace('RHODEY','JAMES RHODES')\n",
    "csv['character'] = csv['character'].replace('NATASHA','NATASHA ROMANOFF')\n",
    "csv['character'] = csv['character'].replace('SMART HULK','BRUCE BANNER')\n",
    "csv['character'] = csv['character'].replace('BAD NEBULA','NEBULA')\n",
    "csv['character'] = csv['character'].replace('A1 NATASHA','NATASHA ROMANOFF')\n",
    "csv['character'] = csv['character'].replace('A1 STEVE','STEVE ROGERS')\n",
    "csv['character'] = csv['character'].replace('A1 CLINT BARTON','CLINT BARTON')\n",
    "csv['character'] = csv['character'].replace('LOKI/STEVE','STEVE ROGERS')\n",
    "csv['character'] = csv['character'].replace('A1 THOR','THOR')\n",
    "csv['character'] = csv['character'].replace('A1 TONY','TONY STARK')\n",
    "csv['character'] = csv['character'].replace('A1 HULK','BRUCE BANNER')\n",
    "csv['character'] = csv['character'].replace('QUILL','PETER QUILL')\n",
    "csv['character'] = csv['character'].replace('OLD STEVE','STEVE ROGERS')\n",
    "# print len of unique characters\n",
    "print(len(csv['character'].unique()))\n",
    "csv[\"gender\"] = all_genders\n",
    "csv.to_csv(os.path.join(csv_path, filename))"
   ]
  },
  {
   "cell_type": "code",
   "execution_count": 16,
   "metadata": {},
   "outputs": [
    {
     "name": "stdout",
     "output_type": "stream",
     "text": [
      "          character                                               line  gender\n",
      "0         ANNOUNCER  Report to your stations immediately. This is n...    MALE\n",
      "1        TONY STARK                                              Shit!    MALE\n",
      "2      STEVE ROGERS   Language! JARVIS, what's the view from upstairs?    MALE\n",
      "3            JARVIS  The central building is protected by some kind...    MALE\n",
      "4              THOR  Loki's scepter must be here. Strucker couldn't...    MALE\n",
      "5  NATASHA ROMANOFF       At long last is lasting a little long, boys.  FEMALE\n",
      "6      CLINT BARTON     Yeah. I think we lost the element of surprise.    MALE\n",
      "7        TONY STARK  Wait a second. No one else is going to deal wi...    MALE\n",
      "8      STEVE ROGERS                                            I know.    MALE\n",
      "9      STEVE ROGERS                               It just slipped out.    MALE\n"
     ]
    }
   ],
   "source": [
    "print(csv.head(10))"
   ]
  },
  {
   "cell_type": "code",
   "execution_count": null,
   "metadata": {},
   "outputs": [],
   "source": []
  }
 ],
 "metadata": {
  "kernelspec": {
   "display_name": "dl",
   "language": "python",
   "name": "python3"
  },
  "language_info": {
   "codemirror_mode": {
    "name": "ipython",
    "version": 3
   },
   "file_extension": ".py",
   "mimetype": "text/x-python",
   "name": "python",
   "nbconvert_exporter": "python",
   "pygments_lexer": "ipython3",
   "version": "3.11.7"
  }
 },
 "nbformat": 4,
 "nbformat_minor": 2
}
