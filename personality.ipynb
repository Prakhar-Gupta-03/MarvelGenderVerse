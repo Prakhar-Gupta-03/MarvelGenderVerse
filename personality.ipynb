{
 "cells": [
  {
   "cell_type": "code",
   "execution_count": 1,
   "metadata": {},
   "outputs": [],
   "source": [
    "import pandas as pd\n",
    "import numpy as np\n",
    "import matplotlib.pyplot as plt"
   ]
  },
  {
   "cell_type": "code",
   "execution_count": 41,
   "metadata": {},
   "outputs": [],
   "source": [
    "# read Iron Man 3.txt line by line\n",
    "with open('Iron Man 3.txt', 'r') as f:\n",
    "    lines = f.readlines()\n",
    "    # print(lines)\n",
    "\n",
    "# print(lines[0])\n",
    "# print(lines[1])\n",
    "# print(lines[2])\n"
   ]
  },
  {
   "cell_type": "code",
   "execution_count": 42,
   "metadata": {},
   "outputs": [],
   "source": [
    "# iterate through lines, if line contains a colon, split the line into speaker and dialogue\n",
    "speaker_dialogue_rows = []\n",
    "for line in lines:\n",
    "    if ':' in line:\n",
    "        # print(line)\n",
    "        speaker, dialogue = line.split(':', 1)\n",
    "        # print(speaker)\n",
    "        # print(dialogue.strip())\n",
    "        # add the speaker and dialogue to the dataframe\n",
    "        speaker_dialogue_rows.append({'Speaker': speaker, 'Dialogue': dialogue.strip()})\n",
    "\n",
    "speaker_dialogue_mapping = pd.DataFrame(speaker_dialogue_rows)\n",
    "\n"
   ]
  },
  {
   "cell_type": "code",
   "execution_count": 44,
   "metadata": {},
   "outputs": [
    {
     "data": {
      "text/html": [
       "<div>\n",
       "<style scoped>\n",
       "    .dataframe tbody tr th:only-of-type {\n",
       "        vertical-align: middle;\n",
       "    }\n",
       "\n",
       "    .dataframe tbody tr th {\n",
       "        vertical-align: top;\n",
       "    }\n",
       "\n",
       "    .dataframe thead th {\n",
       "        text-align: right;\n",
       "    }\n",
       "</style>\n",
       "<table border=\"1\" class=\"dataframe\">\n",
       "  <thead>\n",
       "    <tr style=\"text-align: right;\">\n",
       "      <th></th>\n",
       "      <th>Speaker</th>\n",
       "      <th>Dialogue</th>\n",
       "    </tr>\n",
       "  </thead>\n",
       "  <tbody>\n",
       "    <tr>\n",
       "      <th>0</th>\n",
       "      <td>Tony Stark (V.O.)</td>\n",
       "      <td>We create our own demons. Who said that? What ...</td>\n",
       "    </tr>\n",
       "    <tr>\n",
       "      <th>1</th>\n",
       "      <td>Tony Stark (V.O.)</td>\n",
       "      <td>I'm gonna start again. Let's track this from t...</td>\n",
       "    </tr>\n",
       "    <tr>\n",
       "      <th>2</th>\n",
       "      <td>Happy Hogan</td>\n",
       "      <td>(to Maya.) Half hour till the ball drops.</td>\n",
       "    </tr>\n",
       "    <tr>\n",
       "      <th>3</th>\n",
       "      <td>Tony Stark</td>\n",
       "      <td>Hey, do you want...?</td>\n",
       "    </tr>\n",
       "    <tr>\n",
       "      <th>4</th>\n",
       "      <td>Party Guest</td>\n",
       "      <td>Tony Stark? Great speech, man!</td>\n",
       "    </tr>\n",
       "  </tbody>\n",
       "</table>\n",
       "</div>"
      ],
      "text/plain": [
       "             Speaker                                           Dialogue\n",
       "0  Tony Stark (V.O.)  We create our own demons. Who said that? What ...\n",
       "1  Tony Stark (V.O.)  I'm gonna start again. Let's track this from t...\n",
       "2        Happy Hogan          (to Maya.) Half hour till the ball drops.\n",
       "3         Tony Stark                               Hey, do you want...?\n",
       "4        Party Guest                     Tony Stark? Great speech, man!"
      ]
     },
     "execution_count": 44,
     "metadata": {},
     "output_type": "execute_result"
    }
   ],
   "source": [
    "speaker_dialogue_mapping.head()"
   ]
  },
  {
   "cell_type": "code",
   "execution_count": null,
   "metadata": {},
   "outputs": [],
   "source": []
  },
  {
   "cell_type": "code",
   "execution_count": null,
   "metadata": {},
   "outputs": [],
   "source": []
  }
 ],
 "metadata": {
  "kernelspec": {
   "display_name": "nlp_env",
   "language": "python",
   "name": "python3"
  },
  "language_info": {
   "codemirror_mode": {
    "name": "ipython",
    "version": 3
   },
   "file_extension": ".py",
   "mimetype": "text/x-python",
   "name": "python",
   "nbconvert_exporter": "python",
   "pygments_lexer": "ipython3",
   "version": "3.12.2"
  }
 },
 "nbformat": 4,
 "nbformat_minor": 2
}
