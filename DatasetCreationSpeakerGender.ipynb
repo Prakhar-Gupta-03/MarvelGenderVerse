{
 "cells": [
  {
   "cell_type": "code",
   "execution_count": 3,
   "metadata": {},
   "outputs": [],
   "source": [
    "import os\n",
    "import pandas as pd\n",
    "from tqdm import tqdm"
   ]
  },
  {
   "cell_type": "code",
   "execution_count": 17,
   "metadata": {},
   "outputs": [
    {
     "name": "stdout",
     "output_type": "stream",
     "text": [
      "Processed: ant_man.csv\n",
      "Total characters: 36\n",
      "Unique characters: 36\n",
      "['DR. HANK PYM', 'MITCHELL CARSON', 'HOWARD STARK', 'PEGGY CARTER', 'PEACHY', 'SCOTT LANG', 'LUIS', 'ICE CREAM STORE CUSTOMER', 'DALE', 'DAVE', 'KURT', 'PYM TECH GATE GUARD', 'PYM TECH SECURITY GUARD', 'PYM TECH EMPLOYEE', 'HOPE VAN DYNE', 'DARREN CROSS', 'CARSON', 'VIDEO VOICE OVER', 'FRANK', 'CASSIE LANG', 'PAXTON', 'HIDEOUS RABBIT', 'MAGGIE LANG', 'SCOTT', 'CAB DRIVER', 'COP ON SPEAKER', 'DETECTIVE', 'NATASHA ROMANOFF', 'SAM WILSON', 'SCOT LANG', 'ALPHA GUARD', 'GALE', 'COMPUTER', 'POOL BBQ DAD', 'POLICE RADIO', 'STEVE ROGERS']\n"
     ]
    }
   ],
   "source": [
    "unique_characters = []\n",
    "\n",
    "csv_path = 'script_csv'\n",
    "filename = 'ant_man.csv'\n",
    "# iterate folder\n",
    "with open(os.path.join(csv_path, filename)) as csv_file:\n",
    "    df = pd.read_csv(csv_file)\n",
    "    unique_characters.extend(df['character'].unique())\n",
    "print('Processed:', filename)\n",
    "\n",
    "\n",
    "print('Total characters:', len(unique_characters))\n",
    "print('Unique characters:', len(set(unique_characters)))\n",
    "print(unique_characters)"
   ]
  },
  {
   "cell_type": "code",
   "execution_count": 20,
   "metadata": {},
   "outputs": [
    {
     "name": "stdout",
     "output_type": "stream",
     "text": [
      "LUIS\n",
      "ICE CREAM STORE CUSTOMER\n",
      "DALE\n",
      "PYM TECH GATE GUARD\n",
      "PYM TECH SECURITY GUARD\n",
      "PYM TECH EMPLOYEE\n",
      "CARSON\n",
      "VIDEO VOICE OVER\n",
      "FRANK\n",
      "CASSIE LANG\n",
      "PAXTON\n",
      "HIDEOUS RABBIT\n",
      "MAGGIE LANG\n",
      "SCOTT\n",
      "CAB DRIVER\n",
      "COP ON SPEAKER\n",
      "DETECTIVE\n",
      "SCOT LANG\n",
      "ALPHA GUARD\n",
      "GALE\n",
      "COMPUTER\n",
      "POOL BBQ DAD\n",
      "POLICE RADIO\n"
     ]
    }
   ],
   "source": [
    "male = ['ULYSSES KLAUE',\"KLAUE'S MERCENARY\",\"HEIMDALL\",\"ERIK SELVIG\",\"WORLD HUB TECH\",\"VISION\",\"SPECIALIST CAMERON KLEIN\",\"THANOS\",'DR. HANK PYM','SCOTT LANG','DARREN CROSS','ANTOINE','DAVE','KURT','JIM PAXTON','MITCHELL CARSON','HOWARD STARK','LUIS', \n",
    "        'STAN LEE','SOLDIERS','IRON LEGION','DR. LIST','FORTRESS SOLDIER','STRUCKER','ANNOUNCER','TONY STARK','STEVE ROGERS','JARVIS','THOR','BRUCE BANNER','CLINT BARTON','NICK FURY','ULTRON','JAMES RHODES','PIETRO MAXIMOFF','SAM WILSON','TONY','STEVE','JARVIS','THOR','BRUCE','CLINT','NICK','ULTRON','JAMES','PIETRO','SAM']\n",
    "\n",
    "\n",
    "\n",
    "female = ['NATASHA ROMANOFF',\"BALLET INSTRUCTOR\",\"MADAME B\",\"PEGGY CARTER\",\"BARTON'S DAUGHTER\",\"LILA BARTON\",\"ZRINKA\",'PEACHY','HOPE VAN DYNE',\n",
    "          'MARIA HILL','LAURA BARTON','WANDA MAXIMOFF','PEPPER POTTS','DR. HELEN CHO','FRIDAY','JANE FOSTER','HILL','LAURA','WANDA','PEPPER','HELEN','FRIDAY','JANE']\n",
    "\n",
    "\n",
    "neutral = ['PARTY GUEST']\n",
    "for i in unique_characters:\n",
    "    if i not in male and i not in female:\n",
    "        print(i)"
   ]
  },
  {
   "cell_type": "code",
   "execution_count": 15,
   "metadata": {},
   "outputs": [],
   "source": [
    "csv = pd.read_csv(os.path.join(csv_path, filename))\n",
    "all_chars = csv['character'].values\n",
    "all_genders = []\n",
    "for i in all_chars:\n",
    "    if i in male:\n",
    "        all_genders.append(\"MALE\")\n",
    "    elif i in female:\n",
    "        all_genders.append(\"FEMALE\")\n",
    "    else:\n",
    "        all_genders.append(\"NEUTRAL\")\n",
    "\n",
    "csv[\"gender\"] = all_genders\n",
    "csv.to_csv(os.path.join(csv_path, filename))"
   ]
  },
  {
   "cell_type": "code",
   "execution_count": 16,
   "metadata": {},
   "outputs": [
    {
     "name": "stdout",
     "output_type": "stream",
     "text": [
      "          character                                               line  gender\n",
      "0         ANNOUNCER  Report to your stations immediately. This is n...    MALE\n",
      "1        TONY STARK                                              Shit!    MALE\n",
      "2      STEVE ROGERS   Language! JARVIS, what's the view from upstairs?    MALE\n",
      "3            JARVIS  The central building is protected by some kind...    MALE\n",
      "4              THOR  Loki's scepter must be here. Strucker couldn't...    MALE\n",
      "5  NATASHA ROMANOFF       At long last is lasting a little long, boys.  FEMALE\n",
      "6      CLINT BARTON     Yeah. I think we lost the element of surprise.    MALE\n",
      "7        TONY STARK  Wait a second. No one else is going to deal wi...    MALE\n",
      "8      STEVE ROGERS                                            I know.    MALE\n",
      "9      STEVE ROGERS                               It just slipped out.    MALE\n"
     ]
    }
   ],
   "source": [
    "print(csv.head(10))"
   ]
  },
  {
   "cell_type": "code",
   "execution_count": null,
   "metadata": {},
   "outputs": [],
   "source": []
  }
 ],
 "metadata": {
  "kernelspec": {
   "display_name": "dl",
   "language": "python",
   "name": "python3"
  },
  "language_info": {
   "codemirror_mode": {
    "name": "ipython",
    "version": 3
   },
   "file_extension": ".py",
   "mimetype": "text/x-python",
   "name": "python",
   "nbconvert_exporter": "python",
   "pygments_lexer": "ipython3",
   "version": "3.11.7"
  }
 },
 "nbformat": 4,
 "nbformat_minor": 2
}
