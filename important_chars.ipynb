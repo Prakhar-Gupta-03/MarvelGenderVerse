{
 "cells": [
  {
   "cell_type": "markdown",
   "metadata": {},
   "source": [
    "## MARVEL MOVIES IN ORDER\n",
    "\n",
    "- Iron Man (2008)\n",
    "- Iron Man 2 (2010)\n",
    "- Thor (2011) \n",
    "- Captain America: The First Avenger (2011)  \n",
    "- The Avengers (2012)\n",
    "- Iron Man 3 (2013)\n",
    "- Thor: The Dark World (2013)\n",
    "- Captain America: The Winter Soldier (2014)\n",
    "- Avengers: Age of Ultron (2015)\n",
    "- Ant-Man (2015)\n",
    "- Captain America: Civil War (2016)\n",
    "- Thor: Ragnarok (2017) \n",
    "- Black Panther (2017)\n",
    "- Avengers: Infinity War (2018)\n",
    "- Avengers: Endgame (2019)\n",
    "\n"
   ]
  },
  {
   "cell_type": "markdown",
   "metadata": {},
   "source": [
    "# ----------------IMPORTANT CHARACTERS---------------"
   ]
  },
  {
   "cell_type": "code",
   "execution_count": 2,
   "metadata": {},
   "outputs": [],
   "source": [
    "import pandas as pd"
   ]
  },
  {
   "cell_type": "code",
   "execution_count": 9,
   "metadata": {},
   "outputs": [],
   "source": [
    "folder = 'script_csv'\n",
    "def get_chars_list(path):\n",
    "    df = pd.read_csv(path)\n",
    "    chars = df['character'].tolist()\n",
    "    return set(chars)"
   ]
  },
  {
   "cell_type": "markdown",
   "metadata": {},
   "source": [
    "IRON MAN (2008)"
   ]
  },
  {
   "cell_type": "code",
   "execution_count": 11,
   "metadata": {},
   "outputs": [
    {
     "name": "stdout",
     "output_type": "stream",
     "text": [
      "{'PRATT', 'JIMMY', 'VIPER 1', 'PEPPER POTTS', 'PHIL COULSON', 'KID IN THE BACKSEAT', 'TONY STARK', 'WOMAN', 'GENERAL GABRIEL', 'OBADIAH', 'ABU', 'TYCOON', 'ATTENDANT', 'HEAD ENGINEER', 'DUBAI BEAUTY #1', 'CHRISTINE EVERHART', 'NARRATOR', 'REPORTER', \"WOMAN'S VOICE\", 'JARVIS', 'AGENT', 'KHALID', \"TV REPORTER'S VOICE\", 'MAJOR ALLEN', 'CRAMER', 'OFFICER', 'RAMIREZ', 'BITCHING-BETTY', 'VIPER 2', 'JAMES RHODES', 'HAPPY HOGAN', 'SOLDIER', 'KID', 'VOICE', 'RAZA', 'HO YINSEN', 'MAN'}\n"
     ]
    }
   ],
   "source": [
    "all_chars = get_chars_list('script_csv\\iron_man.csv')\n",
    "print(all_chars)"
   ]
  },
  {
   "cell_type": "code",
   "execution_count": null,
   "metadata": {},
   "outputs": [],
   "source": []
  },
  {
   "cell_type": "markdown",
   "metadata": {},
   "source": [
    "- PEPPER POTTS\n",
    "- PHIL COULSON\n",
    "- TONY STARK\n",
    "- OBADIAH\n",
    "- CHRISTINE EVERHART\n",
    "- JARVIS\n",
    "- JAMES RHODES\n",
    "- HAPPY HOGAN\n",
    "- HO YINSEN\n"
   ]
  },
  {
   "cell_type": "markdown",
   "metadata": {},
   "source": [
    "IRON MAN 2 (2010)"
   ]
  },
  {
   "cell_type": "code",
   "execution_count": 12,
   "metadata": {},
   "outputs": [
    {
     "name": "stdout",
     "output_type": "stream",
     "text": [
      "{'NICK FURY', 'TECHNICIAN', 'PEPPER POTTS', 'SOMEONE IN BACKGROUND', 'PHIL COULSON', 'SHIELD AGENT', 'TONY STARK', 'WOMAN', 'PEOPLE', 'WOMAN IN CROWD', 'POLICE OFFICER', 'GENERAL', 'PRETTY MUCH EVERYONE IN THE CROWD', 'CHRISTINE EVERHART', 'REPORTER', 'ANTON VANKO', 'HAMMER SECURITY GUARD', 'MARSHAL', 'HOWARD STARK', 'LARRY', 'JARVIS', 'NEWS READER', 'MAJOR ALLEN', 'JUSTIN HAMMER', 'STRAWBERRY MAN', 'GOLDSTEIN', 'JACK', 'NATASHA ROMANOFF', 'MAN IN CROWD', 'MR MUSK', 'JAMES RHODES', 'ANNOUNCER', 'HAPPY HOGAN', 'IVAN VANKO', 'STERN', 'NEWS REPORTER', 'PERSON', 'PA', 'MAN'}\n"
     ]
    }
   ],
   "source": [
    "all_chars = get_chars_list('script_csv/iron_man_2.csv')\n",
    "print(all_chars)"
   ]
  },
  {
   "cell_type": "markdown",
   "metadata": {},
   "source": [
    "- NICK FURY\n",
    "- NATASHA ROMANOFF\n",
    "- JUSTIN HAMMER\n",
    "- IVAN VANKO\n",
    "- HOWARD STARK\n",
    "- CHRISTINE EVERHART\n",
    "- JARVIS\n",
    "- JAMES RHODES\n",
    "- HAPPY HOGAN\n",
    "- PEPPER POTTS\n",
    "- TONY STARK\n",
    "- ANTON VANKO\n",
    "- STERN"
   ]
  },
  {
   "cell_type": "markdown",
   "metadata": {},
   "source": [
    "THOR (2011)"
   ]
  },
  {
   "cell_type": "code",
   "execution_count": 13,
   "metadata": {},
   "outputs": [
    {
     "name": "stdout",
     "output_type": "stream",
     "text": [
      "{'PHIL COULSON', 'SHIELD AGENT', 'HEIMDALL', 'AGENT CALE', 'SELVIG', 'FRIGGA', 'TECHIE', 'DARCY', 'TOWNIE PETE', 'LIBRARIAN', 'SIF', 'FANDRAL', 'CLINT BARTON', 'THOR', 'PETE', 'AGENT JACKSON', 'ISABELA', 'JOTUN', 'PET STORE CLERK', 'LAUFEY', 'THOR/SELVIG', 'EINHERJAR GUARD', 'AGENT DELANCEY', 'ORDERLY', 'ODIN', 'HOGUN', 'LOKI', 'VOLSTAGG / HOGUN', 'ISABEL', 'JANE', 'NURSE', 'SITWELL', 'VOLSTAGG', 'AGENT GARRETT'}\n"
     ]
    }
   ],
   "source": [
    "all_chars = get_chars_list('script_csv/thor.csv')\n",
    "print(all_chars)\n"
   ]
  },
  {
   "cell_type": "markdown",
   "metadata": {},
   "source": [
    "- PHIL COULSON\n",
    "- HEIMDALL\n",
    "- SIF\n",
    "- SELVIG\n",
    "- CLINT BARTON\n",
    "- THOR\n",
    "- ISABELA\n",
    "- ODIN\n",
    "- LOKI\n",
    "- HOGUN\n",
    "- JANE\n"
   ]
  },
  {
   "cell_type": "markdown",
   "metadata": {},
   "source": [
    "CAPTAIN AMERICA: THE FIRST AVENGER (2011)"
   ]
  },
  {
   "cell_type": "code",
   "execution_count": 14,
   "metadata": {},
   "outputs": [
    {
     "name": "stdout",
     "output_type": "stream",
     "text": [
      "{'STEVE ROGERS', 'TAXI DRIVER', 'USO SINGER', \"STARK'S ENGINEER\", 'DR. ARNIM ZOLA', 'NICK FURY', 'LOUD JERK', 'HYDRA LIEUTENANT', 'COL. CHESTER PHILLIPS', \"BRANDT'S AIDE\", 'SHIELD LIEUTENANT', 'WOMAN', 'KIDS IN USO AUDIENCE', 'MAN#1', 'SHIELD AGENT', 'SHIELD TECH', 'JAMES MONTGOMERY FALSWORTH', 'GENERAL', 'DIRECTOR', 'SENATOR BRANDT', 'USO GIRL', 'PEGGY CARTER', 'ARMY HECKLER#1', 'ARMY HECKLER#4', 'MOTHER', 'GABE JONES', 'MAN#2', 'MANDY', 'HYDRA TECHNICIANS', 'HUTTER', 'HYDRA GUARDS', 'HOWARD STARK', 'YOUNG BOY', 'SEARCH TEAM LEADER', 'SOLDIERS', 'VOICE FROM EARPIECE', 'ARMY HECKLER#2', 'PVT. LORRAINE', 'ENLISTMENT GUY', 'SERGEANT DUFFY', 'OFFICER', 'FACILITY MANAGER', 'JIM MORITA', 'BARKEEPER', 'GUARD', 'DODGERS ANNOUNCER', 'ARMY HECKLER#3', 'RANDOM WOMAN', 'YOUNG DOCTOR', 'DR. ABRAHAM ERSKINE', 'COMMERCIAL ANNOUNCER', '4F DOCTOR', 'GILMORE HODGE', 'ANTIQUE STORE OWNER', 'ROEDER', 'SCHNEIDER', 'JAMES BARNES', 'HYDRA SOLDIER', 'DUM DUM DUGAN', 'TOWER KEEPER', 'SSR DOCTOR', 'JAN', 'RED SKULL', 'JACQUES DERNEIR', 'CONNIE', 'EXPO ANNOUNCER', 'HEINZ KRUGER', 'MAN ON THE RADIO', 'CORPORAL'}\n"
     ]
    }
   ],
   "source": [
    "all_chars = get_chars_list('script_csv/captain_america.csv')\n",
    "print(all_chars)\n",
    "\n"
   ]
  },
  {
   "cell_type": "markdown",
   "metadata": {},
   "source": [
    "- STEVE ROGERS\n",
    "- PEGGY CARTER\n",
    "- NICK FURY\n",
    "- SENATOR BRANDT\n",
    "- HOWARD STARK\n",
    "- JIM MORITA\n",
    "- GILMORE HODGE\n",
    "- HEINZ KRUGER\n",
    "- RED SKULL\n",
    "- DR. ARNIM ZOLA"
   ]
  },
  {
   "cell_type": "markdown",
   "metadata": {},
   "source": [
    "THE AVENGERS (2012)"
   ]
  },
  {
   "cell_type": "code",
   "execution_count": 15,
   "metadata": {},
   "outputs": [
    {
     "name": "stdout",
     "output_type": "stream",
     "text": [
      "{'HELICARRIER INTERCOM', 'STEVE ROGERS', 'NOVAR', 'NICK FURY', 'COUNCILMAN', 'WEASELLY THUG', 'PEPPER POTTS', 'PHIL COULSON', 'SHIELD AGENT', 'STAN LEE', 'TONY STARK', 'FACELESS PILOT', 'SHIELD WORKER', 'POLICE SERGEANT', 'SCIENTIST', 'GEORGI LUCHKOV', 'SHIELD ENGINEER', 'INTERCOM VOICE', 'SELVIG', 'SECURITY GUARD', 'YOUNG COP', 'THE SENATOR', 'PEGGY CARTER', 'COUNCILWOMAN', 'REPORTER', 'NASA SCIENTIST', 'HUSBAND', 'MALE AGENT', 'JARVIS', 'CLINT BARTON', 'FEMALE CARRIER BRIDGE TECH', 'YOUNG SHIELD PILOT', 'COUNCILMAN 2', 'THOR', 'OFF SCREEN WORKER', 'NATASHA ROMANOFF', 'FEMALE CITIZEN', 'MALE REPORTER', 'CALCUTTA WOMAN', 'MALE CITIZEN', 'JET PILOT', 'AGENT JASPER SITWELL', 'GERMAN OLD MAN', 'BRUCE BANNER', 'MAINTENANCE GUY', 'WIFE', 'THE OTHER', 'LOKI', 'YOUNG GIRL', 'WAITRESS', 'CARRIER BRIDGE TECH 1', 'MARIA HILL'}\n"
     ]
    }
   ],
   "source": [
    "all_chars = get_chars_list('script_csv/avengers.csv')\n",
    "print(all_chars)"
   ]
  },
  {
   "cell_type": "markdown",
   "metadata": {},
   "source": [
    "- STEVE ROGERS\n",
    "- NICK FURY\n",
    "- PEPPER POTTS\n",
    "- PHIL COULSON\n",
    "- STAN LEE\n",
    "- TONY STARK\n",
    "- GEORGI LUCHKOV\n",
    "- SELVIG\n",
    "- PEGGY CARTER\n",
    "- JARVIS\n",
    "- CLINT BARTON\n",
    "- THOR\n",
    "- NATASHA ROMANOFF\n",
    "- AGENT JASPER SITWELL\n",
    "- BRUCE BANNER\n",
    "- LOKI\n",
    "- MARIA HILL"
   ]
  },
  {
   "cell_type": "markdown",
   "metadata": {},
   "source": [
    "IRON MAN 3 (2013)"
   ]
  },
  {
   "cell_type": "code",
   "execution_count": 16,
   "metadata": {},
   "outputs": [
    {
     "name": "stdout",
     "output_type": "stream",
     "text": [
      "{'ROSE HILL CHRISTMAS TREE SHOPPER', 'COMPUTER VOICE', 'PEPPER POTTS', 'SAVIN', 'EMCEE', 'HOSPITAL NEWS REPORTER', 'TONY STARK', \"PEPPER'S ASSISTANT\", 'MANDARIN LOOK-OUT', 'CREW', 'WOMAN', 'THOMAS RICHARDS', 'HEATHER', \"HAPPY'S NURSE\", 'MRS. DAVIS', 'GOVERNMENT OFFICIAL', 'BOTH', 'PRESIDENT ELLIS', 'MILITARY AIDE', 'LITTLE BOY', 'BRANDT', 'ALDRICH KILLIAN', 'JARVIS', 'CHAD DAVIS', 'BILL MAHER', 'MAYA HANSEN', 'ROSE HILLS SHERIFF', 'JOAN RIVERS', 'TAGGERT', 'OFFICER', 'GUARD', 'ELK RIDGE', 'CAMERAMAN', 'TREVOR SLATTERY', 'VANESSA', 'JAMES RHODES', 'ANNOUNCER', 'ERIN', 'GARY', 'PARTY GUEST', 'HAPPY HOGAN', 'VICE PRESIDENT', 'BRUCE BANNER', 'NEWS REPORTER', 'PUSHY TABLOID REPORTER', 'HARLEY KEENER', 'HO YINSEN', 'NURSE', 'MAN'}\n"
     ]
    }
   ],
   "source": [
    "all_chars = get_chars_list('script_csv/iron_man_3.csv')\n",
    "print(all_chars)\n"
   ]
  },
  {
   "cell_type": "markdown",
   "metadata": {},
   "source": [
    "- PEPPER POTTS\n",
    "- SAVIN\n",
    "- TONY STARK\n",
    "- TREVOR SLATTERY\n",
    "- JARVIS\n",
    "- HAPPY HOGAN\n",
    "- HEATHER\n",
    "- MAYA HANSEN\n",
    "- ALDRICH KILLIAN\n",
    "- JOAN RIVERS\n",
    "- JAMES RHODES\n",
    "- BRUCE BANNER\n",
    "- HO YINSEN\n",
    "- HARLEY KEENER\n",
    "\n",
    "important_chars = ['PEPPER POTTS','SAVIN','TONY STARK','TREVOR SLATTERY','JARVIS','HAPPY HOGAN','HEATHER','MAYA HANSEN','ALDRICH KILLIAN','JOAN RIVERS','JAMES RHODES','BRUCE BANNER','HO YINSEN','HARLEY KEENER']"
   ]
  },
  {
   "cell_type": "markdown",
   "metadata": {},
   "source": [
    "THOR: THE DARK WORLD (2013)"
   ]
  },
  {
   "cell_type": "code",
   "execution_count": 17,
   "metadata": {},
   "outputs": [
    {
     "name": "stdout",
     "output_type": "stream",
     "text": [
      "{'PILOT', 'RICHARD', 'KURSE', 'HEIMDALL', 'BOR', 'SELVIG', 'WOMAN ON TRAIN', 'FRIGGA', 'ASGARDIAN EINHERJAR', 'POLICE OFFICER #2', 'DESK OFFICER', 'DARCY', 'PATIENT', 'SIF', 'CONTROL', 'FANDRAL', 'STUDENT', 'POLICE OFFICER #1', 'CARINA', 'GUARD', 'THOR', 'ASGARDIAN NURSE', 'EIR', 'DARCY LEWIS', 'MADDIE', 'MALEKITH', 'IAN BOOTHBY', 'NAVID', 'STONEHENGE TV NEWS REPORTER', 'THE COLLECTOR', 'ODIN', 'HOGUN', 'LOKI', 'NEWS REPORTER', \"COLLECTOR'S ASSISTANT\", 'JANE', 'GUARDS', 'VOLSTAGG', 'MAN'}\n"
     ]
    }
   ],
   "source": [
    "all_chars = get_chars_list('script_csv/thor_dark_world.csv')\n",
    "print(all_chars)\n"
   ]
  },
  {
   "cell_type": "markdown",
   "metadata": {},
   "source": [
    "- KURSE\n",
    "- HEIMDALL\n",
    "- SIF\n",
    "- SELVIG\n",
    "- THOR\n",
    "- IAN BOOTHBY\n",
    "- ODIN\n",
    "- HOGUN\n",
    "- JANE\n",
    "- LOKI\n",
    "\n",
    "important_chars = ['KURSE','HEIMDALL','SIF','SELVIG','THOR','IAN BOOTHBY','ODIN','HOGUN','JANE','LOKI']\n"
   ]
  },
  {
   "cell_type": "markdown",
   "metadata": {},
   "source": [
    "CAPTAIN AMERICA: THE WINTER SOLDIER (2014)"
   ]
  },
  {
   "cell_type": "markdown",
   "metadata": {},
   "source": [
    "!!!! CHANGE JASPER SITWELL TO AGENT JASPER SITWELL"
   ]
  },
  {
   "cell_type": "code",
   "execution_count": 18,
   "metadata": {},
   "outputs": [
    {
     "name": "stdout",
     "output_type": "stream",
     "text": [
      "{'PILOT', 'STEVE ROGERS', 'FEMALE WAR VETERAN', 'CHARLIE XO', 'NICK FURY', '25TH FLOOR STRIKE AGENT', 'DR. ARNIM ZOLA', 'SCIENTIST #1', 'COM TECH #1', 'SHIELD PILOT', 'DURAND', 'SHIELD AGENT', 'MAN ON PA', 'STRIKE AGENT #1', 'SAM WILSON', 'SHIELD TECH', 'APPLE EMPLOYEE', 'SHARON CARTER', 'JACK ROLLINS', 'COM TECH #2', 'MALE NURSE', 'CHARLIE WEAPONS TECH', 'SHIELD AGENT #2', 'PEGGY CARTER', 'BROCK RUMLOW', 'BUCKY', 'SMITHSONIAN GUARD', 'HYDRA DISPATCH', 'TEXT MESSAGE', 'OLD FOOTAGE RECORDING', 'SHIELD AGENT #3', 'RENATA', \"FURY'S CAR\", 'GEORGES BATROC', 'SCUDDER', 'FRENCH PIRATE #2', 'BAILIFF', 'LIST', 'STRIKE AGENT #3', 'THE SMITHSONIAN NARRATOR', 'COUNCILMAN SINGH', 'SERGEANT DUFFY', 'STRIKE AGENT', 'COUNCILMAN HAWLEY', 'JASPER SITWELL', 'COUNCILMAN ROCKWELL', 'COMMITTEE GENERAL', 'NATASHA ROMANOFF', 'FEMALE NURSE', 'DOCTOR', 'SHIELD AGENT #1', 'ALEXANDER PIERCE', 'QUINJET PILOT', 'COUNCILWOMAN HAWLEY', 'STERN', 'COMPUTER', 'COUNCILMAN YEN', 'FRENCH PIRATE #1', 'BARON WOLFGANG VON STRUCKER', 'WOMAN ON PA', 'DOCTOR #1', 'STRIKE AGENT #2', 'MARIA HILL', 'FRENCH PIRATE', 'SHIELD COMPUTER'}\n"
     ]
    }
   ],
   "source": [
    "all_chars = get_chars_list('script_csv/winter_soldier.csv')\n",
    "print(all_chars)"
   ]
  },
  {
   "cell_type": "markdown",
   "metadata": {},
   "source": [
    "- STEVE ROGERS\n",
    "- NICK FURY\n",
    "- DR. ARNIM ZOLA\n",
    "- SAM WILSON\n",
    "- SHARON CARTER\n",
    "- PEGGY CARTER\n",
    "- BUCKY\n",
    "- JASPER SITWELL\n",
    "- NATASHA ROMANOFF\n",
    "- STERN\n",
    "- MARIA HILL\n",
    "\n",
    "important_chars = ['STEVE ROGERS','NICK FURY','DR. ARNIM ZOLA','SAM WILSON','SHARON CARTER','PEGGY CARTER','BUCKY','JASPER SITWELL','NATASHA ROMANOFF','STERN','MARIA HILL']"
   ]
  },
  {
   "cell_type": "markdown",
   "metadata": {},
   "source": [
    "AVENGERS: AGE OF ULTRON (2015)"
   ]
  },
  {
   "cell_type": "markdown",
   "metadata": {},
   "source": [
    "!!!! CHANGE ERIK SELVIG TO SELVIG !!!!"
   ]
  },
  {
   "cell_type": "code",
   "execution_count": 20,
   "metadata": {},
   "outputs": [
    {
     "name": "stdout",
     "output_type": "stream",
     "text": [
      "{'STEVE ROGERS', 'NICK FURY', 'ERIK SELVIG', \"KLAUE'S MERCENARY\", 'STAN LEE', 'LAURA BARTON', 'TONY STARK', 'HEIMDALL', 'SAM WILSON', 'ULYSSES KLAUE', 'MADAME B', 'VISION', 'FORTRESS SOLDIER', 'STRUCKER', 'BALLET INSTRUCTOR', 'PEGGY CARTER', 'ZRINKA', 'WORLD HUB TECH', 'SPECIALIST CAMERON KLEIN', 'THANOS', 'DR. HELEN CHO', 'JARVIS', 'CLINT BARTON', 'SOLDIERS', 'LILA BARTON', 'THOR', 'IRON LEGION', 'NATASHA ROMANOFF', 'ULTRON', 'PIETRO MAXIMOFF', 'JAMES RHODES', 'ANNOUNCER', 'FRIDAY', 'PARTY GUEST', 'DR. LIST', 'BRUCE BANNER', 'WANDA MAXIMOFF', 'MARIA HILL', \"BARTON'S DAUGHTER\"}\n"
     ]
    }
   ],
   "source": [
    "all_chars = get_chars_list('script_csv/age_of_ultron.csv')\n",
    "print(all_chars)"
   ]
  },
  {
   "cell_type": "markdown",
   "metadata": {},
   "source": [
    "- STEVE ROGERS\n",
    "- NICK FURY\n",
    "- ERIK SELVIG\n",
    "- STAN LEE\n",
    "- TONY STARK\n",
    "- HEIMDALL\n",
    "- SAM WILSON\n",
    "- VISION\n",
    "- JARVIS\n",
    "- PEGGY CARTER\n",
    "- THANOS\n",
    "- CLINT BARTON\n",
    "- THOR\n",
    "- LILA BARTON\n",
    "- NATASHA ROMANOFF\n",
    "- ULTRON\n",
    "- IRON LEGION\n",
    "- PIETRO MAXIMOFF\n",
    "- JAMES RHODES\n",
    "- FRIDAY\n",
    "- BRUCE BANNER\n",
    "- WANDA MAXIMOFF\n",
    "- MARIA HILL\n",
    "\n",
    "important_chars = ['STEVE ROGERS','NICK FURY','ERIC SELVIG','STAN LEE','TONY STARK','HEIMDALL','SAM WILSON','VISION','JARVIS','PEGGY CARTER','THANOS','CLINT BARTON','THOR','LILA BARTON','NATASHA ROMANOFF','ULTRON','IRON LEGION','PIETRO MAXIMOFF','JAMES RHODES','FRIDAY','BRUCE BANNER','WANDA MAXIMOFF','MARIA HILL']"
   ]
  },
  {
   "cell_type": "markdown",
   "metadata": {},
   "source": [
    "ANT-MAN (2015)"
   ]
  },
  {
   "cell_type": "code",
   "execution_count": 21,
   "metadata": {},
   "outputs": [
    {
     "name": "stdout",
     "output_type": "stream",
     "text": [
      "{'LUIS', 'STEVE ROGERS', 'DARREN CROSS', 'COP ON SPEAKER', 'SCOTT LANG', 'SAM WILSON', 'VIDEO VOICE OVER', 'POLICE RADIO', 'ICE CREAM STORE CUSTOMER', 'PEGGY CARTER', 'FRANK', 'PAXTON', 'DAVE', 'GALE', 'CARSON', 'HOWARD STARK', 'DETECTIVE', 'HIDEOUS RABBIT', 'CASSIE LANG', 'MITCHELL CARSON', 'KURT', 'NATASHA ROMANOFF', 'PYM TECH EMPLOYEE', 'PEACHY', 'PYM TECH SECURITY GUARD', 'DR. HANK PYM', 'CAB DRIVER', 'MAGGIE LANG', 'COMPUTER', 'DALE', 'PYM TECH GATE GUARD', 'HOPE VAN DYNE', 'POOL BBQ DAD', 'ALPHA GUARD'}\n"
     ]
    }
   ],
   "source": [
    "all_chars = get_chars_list('script_csv/ant_man.csv')\n",
    "print(all_chars)"
   ]
  },
  {
   "cell_type": "markdown",
   "metadata": {},
   "source": [
    "- LUIS\n",
    "- STEVE ROGERS\n",
    "- SCOTT LANG\n",
    "- SAM WILSON\n",
    "- PEGGY CARTER\n",
    "- HOPE VAN DYNE\n",
    "- HOWARD STARK\n",
    "- DR. HANK PYM\n",
    "- CASSIE LANG\n",
    "- NATASHA ROMANOFF\n",
    "- MAGGIE LANG\n",
    "\n",
    "important_chars = ['LUIS', 'STEVE ROGERS','SCOTT LANG','SAM WILSON','PEGGY CARTER','HOPE VAN DYNE','HOWARD STARK','DR. HANK PYM','CASSIE LANG','NATASHA ROMANOFF','MAGGIE LANG']\n"
   ]
  },
  {
   "cell_type": "markdown",
   "metadata": {},
   "source": [
    "CAPTAIN AMERICA: CIVIL WAR (2016)"
   ]
  },
  {
   "cell_type": "code",
   "execution_count": 22,
   "metadata": {},
   "outputs": [
    {
     "name": "stdout",
     "output_type": "stream",
     "text": [
      "{'STEVE ROGERS', 'GSG-9 DRIVER', 'MAN ON PA', 'STAN LEE', 'TONY STARK', 'SCOTT LANG', 'JOSEF', 'SAM WILSON', 'DELIVERY TRUCK DRIVER', \"STARK'S ASSISTANT\", 'VISION', 'SHARON CARTER', 'SECURITY CHIEF', 'UN STAFFER', 'ATTACHE', 'BROCK RUMLOW', 'BUCKY', 'MERCENARY', 'MAN ON SPEAKERS', 'MIT TEACHER', 'PETER PARKER', 'MAY PARKER', 'HOWARD STARK', 'CUSTODIAN', 'CLINT BARTON', 'HELMUT ZEMO', 'MRS. SPENCER', 'EVERETT ROSS', \"ZEMO'S WIFE\", 'GUARD', 'NATASHA ROMANOFF', 'PRIEST', 'JAMES RHODES', \"T'CHALA\", 'GERMAN INNKEEPER', 'FRIDAY', 'VASILY KARPOV', 'GSG-9 SOLDIER', 'WANDA MAXIMOFF', 'MARIA STARK', 'NEWS ANCHOR', 'SECRETARY ROSS'}\n"
     ]
    }
   ],
   "source": [
    "all_chars = get_chars_list('script_csv/civil_war.csv')\n",
    "print(all_chars)\n"
   ]
  },
  {
   "cell_type": "markdown",
   "metadata": {},
   "source": [
    "- STEVE ROGERS\n",
    "- STAN LEE\n",
    "- TONY STARK\n",
    "- SCOTT LANG\n",
    "- SAM WILSON\n",
    "- VISION\n",
    "- SHARON CARTER\n",
    "- BUCKY\n",
    "- PETER PARKER\n",
    "- MAY PARKER\n",
    "- HOWARD STARK\n",
    "- CLINT BARTON\n",
    "- NATASHA ROMANOFF\n",
    "- JAMES RHODES\n",
    "- T'CHALLA\n",
    "- WANDA MAXIMOFF\n",
    "- FRIDAY\n",
    "- MARIA STARK\n",
    "\n",
    "important_chars = ['STEVE ROGERS','STAN LEE','TONY STARK','SCOTT LANG','SAM WILSON','VISION','SHARON CARTER','BUCKY','PETER PARKER','MAY PARKER','HOWARD STARK','CLINT BARTON','NATASHA ROMANOFF','JAMES RHODES','TCHALLA','WANDA MAXIMOFF','FRIDAY','MARIA STARK']"
   ]
  },
  {
   "cell_type": "markdown",
   "metadata": {},
   "source": [
    "THOR: RAGNAROK (2017)"
   ]
  },
  {
   "cell_type": "markdown",
   "metadata": {},
   "source": [
    "!!!! CHANGE ACTOR SIF TO SIF !!!!"
   ]
  },
  {
   "cell_type": "code",
   "execution_count": 24,
   "metadata": {},
   "outputs": [
    {
     "name": "stdout",
     "output_type": "stream",
     "text": [
      "{'LEAD SCRAPPER', 'SCRAPPER #142', 'COUSIN CARLO', 'COLLEGE GIRL 1', 'STAN LEE', 'HEIMDALL', 'TOPAZ', 'THOR / BRUCE BANNER', 'HELA', 'WARDEN', 'COLLEGE GIRL 2', 'VALKYRIE', 'GRANDMASTER', 'SCRAPPER', 'KORG', 'SKURGE', 'ASGARDIAN WOMAN', 'SOOTHING VOICE', 'STEPHEN STRANGE', 'THOR', 'NATASHA ROMANOFF', 'ASGARDIAN MAN', 'SURTUR', 'ACTOR SIF', 'CROWD', 'BRUCE BANNER', 'ODIN', 'HOGUN', 'LOKI', 'QUINJET', 'ASGARDIAN CITIZENS', 'VOLSTAGG'}\n"
     ]
    }
   ],
   "source": [
    "all_chars = get_chars_list('script_csv/ragnarok.csv')\n",
    "print(all_chars)"
   ]
  },
  {
   "cell_type": "markdown",
   "metadata": {},
   "source": [
    "- STAN LEE\n",
    "- HEIMDALL\n",
    "- HELA\n",
    "- VALKYRIE\n",
    "- KORG\n",
    "- SKURGE\n",
    "- STEPHEN STRANGE\n",
    "- THOR\n",
    "- NATASHA ROMANOFF\n",
    "- SIF\n",
    "- LOKI\n",
    "- BRUCE BANNER\n",
    "- ODIN\n",
    "- HOGUN\n",
    "\n",
    "important_chars = ['STAN LEE','HEIMDALL','HELA',VALKYRIE','KORG','SKURGE','STEPHEN STRANGE','THOR','NATASHA ROMANOFF','ACTOR SIF','LOKI','BRUCE BANNER','ODIN','HOGUN']"
   ]
  },
  {
   "cell_type": "markdown",
   "metadata": {},
   "source": [
    "BLACK PANTHER (2017)"
   ]
  },
  {
   "cell_type": "code",
   "execution_count": 25,
   "metadata": {},
   "outputs": [
    {
     "name": "stdout",
     "output_type": "stream",
     "text": [
      "{'SHURI', 'FATHER', 'NAKIA', 'NIGERIAN WOMAN', 'SOUTH AFRICAN TOUGH', 'STAN LEE', 'GRIOT', 'OKOYE', 'FRENCH AMBASSADOR', 'CIA AGENT', \"W'KABI\", 'MINING TRIBE ELDER', 'ZURI', 'RAMONDA', 'SECURITY GUARD', 'ELDERS, WARRIORS, DORA', 'SHURI/NAKIA', 'BUCKY', 'SHAMAN', 'MUSEUM DIRECTOR', 'DORA MILAJE', 'SON', 'RIVER TRIBE ELDER', \"M'BAKU\", 'NIGERIAN MILITANT', 'MILITANT LEADER', 'OAKLAND KID', 'KILLMONGER', 'AYO', 'JAMES', 'LIMBANI', 'KLAUE', \"T'CHALA\", 'DRIVER', 'WAKANDIAN CHILD', 'CROWD', 'ELDERLY WOMAN', 'CARGO TRUCK MILITANT', 'BORDER TRIBE ELDER', 'ROSS', \"N'JOBU\", 'BBC ANCHOR', 'MERCHANT TRIBE ELDER', 'WAKANDIAN CHILDREN', 'LINDA'}\n"
     ]
    }
   ],
   "source": [
    "all_chars = get_chars_list('script_csv/black_panther.csv')\n",
    "print(all_chars)\n"
   ]
  },
  {
   "cell_type": "markdown",
   "metadata": {},
   "source": [
    "- SHURI\n",
    "- NAKIA\n",
    "- STAN LEE\n",
    "- OKOYE\n",
    "- W'KABI\n",
    "- ZURI\n",
    "- T'CHALA\n",
    "- BUCKY\n",
    "- M'BAKU\n",
    "- KILLMONGER\n",
    "- RAMONDA\n",
    "- N'JOBU\n",
    "- LINDA\n",
    "\n",
    "important_chars = ['SHURI','NAKIA','STAN LEE','OKOYE','W\\'KABI','ZURI','T\\'CHALA','BUCKY','M\\'BAKU','KILLMONGER','RAMONDA','N\\'JOBU','LINDA']"
   ]
  },
  {
   "cell_type": "markdown",
   "metadata": {},
   "source": [
    "AVENGERS: INFINITY WAR (2018)"
   ]
  },
  {
   "cell_type": "code",
   "execution_count": 26,
   "metadata": {},
   "outputs": [
    {
     "name": "stdout",
     "output_type": "stream",
     "text": [
      "{'PETER QUILL', 'STEVE ROGERS', 'SHURI', 'NICK FURY', 'ROCKET', 'PEPPER POTTS', 'MARIA HILL', 'CULL OBSIDIAN', 'STAN LEE', 'HEIMDALL', 'TONY STARK', 'OKOYE', 'SAM WILSON', 'VISION', 'NEBULA', 'BUCKY', 'DOME CONTROL', 'THANOS', 'COLLECTOR', \"M'BAKU\", 'PETER PARKER', 'WONG', 'ASGARDIAN PA', 'GAMORA', 'STEPHEN STRANGE', 'NED LEEDS', 'STONEKEEPER', 'MANTIS', 'THOR', 'DRAX', 'HULK', 'NATASHA ROMANOFF', 'JAMES RHODES', \"T'CHALA\", 'PROXIMA MIDNIGHT', 'FRIDAY', 'BRUCE BANNER', 'GROOT', 'LOKI', 'WANDA MAXIMOFF', 'JABARI WARRIORS', \"GAMORA'S MOTHER\", 'SECRETARY ROSS', 'EITRI', 'RED SKULL', 'EBONY MAW', 'CORVUS GLAIVE'}\n"
     ]
    }
   ],
   "source": [
    "all_chars = get_chars_list('script_csv/infinity_war.csv')\n",
    "print(all_chars)"
   ]
  },
  {
   "cell_type": "markdown",
   "metadata": {},
   "source": [
    "- PETER QUILL\n",
    "- STEVE ROGERS\n",
    "- SHURI\n",
    "- NICK FURY\n",
    "- PEPPER POTTS\n",
    "- MARIA HILL\n",
    "- STAN LEE\n",
    "- HEIMDALL\n",
    "- TONY STARK\n",
    "- OKOYE\n",
    "- SAM WILSON\n",
    "- VISION\n",
    "- NEBULA\n",
    "- BUCKY\n",
    "- THANOS\n",
    "- M'BAKU\n",
    "- PETER PARKER \n",
    "- WONG \n",
    "- GAMORA \n",
    "- STEPHEN STRANGE \n",
    "- NED LEEDS \n",
    "- MANTIS \n",
    "- THOR \n",
    "- DRAX \n",
    "- HULK \n",
    "- NATASHA ROMANOFF \n",
    "- JAME RHODES \n",
    "- T'CHALA \n",
    "- PROXIMA MIDNIGHT \n",
    "- FRIDAY \n",
    "- BRUCE BANNER \n",
    "- GROOT \n",
    "- LOKI \n",
    "- WANDA MAXIMOFF \n",
    "- RED SKULL \n",
    "\n",
    "important_chars = ['PETER QUILL','STEVE ROGERS','SHURI','NICK FURY','PEPPER POTTS','MARIA HILL','STAN LEE','HEIMDALL','TONY STARK','OKOYE','SAM WILSON','VISION','NEBULA','BUCKY','THANOS','MBAKU','PETER PARKER','WONG','GAMORA','STEPHEN STRANGE','NED LEEDS','MANTIS','THOR','DRAX','HULK','NATASHA ROMANOFF','JAME RHODES','TCHALA','PROXIMA MIDNIGHT','FRIDAY','BRUCE BANNER','GROOT','LOKI','WANDA MAXIMOFF','RED SKULL']"
   ]
  },
  {
   "cell_type": "markdown",
   "metadata": {},
   "source": [
    "AVENGERS: ENDGAME (2019)"
   ]
  },
  {
   "cell_type": "code",
   "execution_count": 27,
   "metadata": {},
   "outputs": [
    {
     "name": "stdout",
     "output_type": "stream",
     "text": [
      "{'HELICARRIER INTERCOM', 'STEVE ROGERS', 'NOVAR', 'NICK FURY', 'COUNCILMAN', 'WEASELLY THUG', 'PEPPER POTTS', 'PHIL COULSON', 'SHIELD AGENT', 'STAN LEE', 'TONY STARK', 'FACELESS PILOT', 'SHIELD WORKER', 'POLICE SERGEANT', 'SCIENTIST', 'GEORGI LUCHKOV', 'SHIELD ENGINEER', 'INTERCOM VOICE', 'SELVIG', 'SECURITY GUARD', 'YOUNG COP', 'THE SENATOR', 'PEGGY CARTER', 'COUNCILWOMAN', 'REPORTER', 'NASA SCIENTIST', 'HUSBAND', 'MALE AGENT', 'JARVIS', 'CLINT BARTON', 'FEMALE CARRIER BRIDGE TECH', 'YOUNG SHIELD PILOT', 'COUNCILMAN 2', 'THOR', 'OFF SCREEN WORKER', 'NATASHA ROMANOFF', 'FEMALE CITIZEN', 'MALE REPORTER', 'CALCUTTA WOMAN', 'MALE CITIZEN', 'JET PILOT', 'AGENT JASPER SITWELL', 'GERMAN OLD MAN', 'BRUCE BANNER', 'MAINTENANCE GUY', 'WIFE', 'THE OTHER', 'LOKI', 'YOUNG GIRL', 'WAITRESS', 'CARRIER BRIDGE TECH 1', 'MARIA HILL'}\n"
     ]
    }
   ],
   "source": [
    "all_chars = get_chars_list('script_csv/avengers_endgame.csv')\n",
    "print(all_chars)\n"
   ]
  },
  {
   "cell_type": "markdown",
   "metadata": {},
   "source": [
    "- STEVE ROGERS \n",
    "- NICK FURY \n",
    "- PEPPER POTTS \n",
    "- PHIL COULSON \n",
    "- STAN LEE \n",
    "- TONY STARK \n",
    "- SELVIG \n",
    "- PEGGY CARTER \n",
    "- JARVIS \n",
    "- CLINT BARTON \n",
    "- THOR \n",
    "- NATASHA ROMANOFF \n",
    "- BRUCE BANNER \n",
    "- AGENT JASPER SITWELL \n",
    "- LOKI \n",
    "- MARIA HILL\n",
    "\n",
    "important_chars = ['STEVE ROGERS','NICK FURY','PEPPER POTTS','PHIL COULSON','STAN LEE','TONY STARK','SELVIG','PEGGY CARTER','JARVIS','CLINT BARTON','THOR','NATASHA ROMANOFF','BRUCE BANNER','AGENT JASPER SITWELL','LOKI','MARIA HILL']"
   ]
  },
  {
   "cell_type": "code",
   "execution_count": null,
   "metadata": {},
   "outputs": [],
   "source": []
  },
  {
   "cell_type": "code",
   "execution_count": null,
   "metadata": {},
   "outputs": [],
   "source": []
  }
 ],
 "metadata": {
  "kernelspec": {
   "display_name": "dl",
   "language": "python",
   "name": "python3"
  },
  "language_info": {
   "codemirror_mode": {
    "name": "ipython",
    "version": 3
   },
   "file_extension": ".py",
   "mimetype": "text/x-python",
   "name": "python",
   "nbconvert_exporter": "python",
   "pygments_lexer": "ipython3",
   "version": "3.11.7"
  }
 },
 "nbformat": 4,
 "nbformat_minor": 2
}
