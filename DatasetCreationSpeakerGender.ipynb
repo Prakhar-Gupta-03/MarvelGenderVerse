{
 "cells": [
  {
   "cell_type": "code",
   "execution_count": 2,
   "metadata": {},
   "outputs": [],
   "source": [
    "import os\n",
    "import pandas as pd\n",
    "from tqdm import tqdm\n",
    "\n",
    "# captain america"
   ]
  },
  {
   "cell_type": "code",
   "execution_count": 3,
   "metadata": {},
   "outputs": [
    {
     "name": "stdout",
     "output_type": "stream",
     "text": [
      "Processed: civil_war.csv\n",
      "Total characters: 52\n",
      "Unique characters: 52\n",
      "['VASILY KARPOV', 'BUCKY BARNES', 'STEVE ROGERS', 'WANDA MAXIMOFF', 'NATASHA ROMANOFF', 'SAM WILSON', 'BROCK RUMLOW', 'MERCENARY', 'MERCENARY #1', 'MERCENARY #2', 'MARIA STARK', 'HOWARD STARK', 'YOUNG TONY STARK', 'TONY STARK', 'MIT TEACHER', \"STARK'S ASSISTANT\", 'MRS. SPENCER', 'MRS SPENCER', 'NEWS ANCHOR #1', \"KING T'CHAKA\", 'NEWS ANCHOR #2', 'VISION', 'SECRETARY ROSS', 'JAMES RHODES', 'HELMUT ZEMO', 'PRIEST', 'SHARON CARTER', 'NEWS ANCHOR #3', 'UN STAFFER', \"T'CHALLA\", 'MAN ON SPEAKERS', 'NEWS ANCHOR #4', 'GERMAN INNKEEPER', 'GSG-9 SOLDIER', 'GSG-9 DRIVER', 'EVERETT ROSS', 'DELIVERY TRUCK DRIVER', 'CUSTODIAN', 'MAN ON PA #1', \"ZEMO'S WIFE\", 'NEWS ANCHOR #5', 'JOSEF / SUPER SOLDIER #1', 'PETER PARKER', 'MAY PARKER', 'CLINT BARTON', 'ATTACHE', 'SECURITY CHIEF', 'SCOTT LANG', 'MAN ON PA #2', 'FRIDAY', 'GUARD', 'FEDEX DRIVER STAN LEE']\n"
     ]
    }
   ],
   "source": [
    "unique_characters = []\n",
    "\n",
    "csv_path = 'script_csv'\n",
    "filename = 'civil_war.csv'\n",
    "# iterate folder\n",
    "with open(os.path.join(csv_path, filename)) as csv_file:\n",
    "    df = pd.read_csv(csv_file)\n",
    "    unique_characters.extend(df['character'].unique())\n",
    "print('Processed:', filename)\n",
    "\n",
    "\n",
    "print('Total characters:', len(unique_characters))\n",
    "print('Unique characters:', len(set(unique_characters)))\n",
    "print(unique_characters)"
   ]
  },
  {
   "cell_type": "code",
   "execution_count": 4,
   "metadata": {},
   "outputs": [],
   "source": [
    "male = ['BUCKY','STEVE ROGERS','TONY STARK','SAM WILSON','SCOTT LANG','CLINT BARTON','VASILY KARPOV','BROCK RUMLOW','MERCENARY',\n",
    "        'HOWARD STARK','MIT TEACHER','NEWS ANCHOR','T\\'CHALA','SECRETARY ROSS','JAMES RHODES','PETER PARKER','VISION',\n",
    "        'HELMUT ZEMO','PRIEST','MAN ON SPEAKERS','GERMAN INNKEEPER','GSG-9 SOLDIER','GSG-9 DRIVER','EVERETT ROSS',\n",
    "        'DELIVERY TRUCK DRIVER','CUSTODIAN','MAN ON PA','JOSEF','ATTACHE','SECURITY CHIEF','FRIDAY','GUARD','STAN LEE']\n",
    "\n",
    "female = ['WANDA MAXIMOFF','NATASHA ROMANOFF','SHARON CARTER','AGENT 13','MARIA HILL','HOPE VAN DYNE','MARIA STARK',\n",
    "          'SHARON CARTER','STARK\\'S ASSISTANT','MRS. SPENCER','UN STAFFER','ZEMO\\'S WIFE','MAY PARKER',]\n",
    "\n",
    "\n",
    "\n",
    "t = ['BUCKY BARNES','MRS SPENCER','NEWS ANCHOR #1','NEWS ANCHOR #2','NEWS ANCHOR #3','FEDEX DRIVER STAN LEE',\n",
    "           'NEWS ANCHOR #4','T\\'CHALLA','NEWS ANCHOR #5','JOSEF / SUPER SOLDIER #1',\n",
    "           'MERCENARY #1','MERCENARY #2','YOUNG TONY STARK','KING T\\'CHAKA','MAN ON PA #1','MAN ON PA #2',]\n",
    "neutral = ['PARTY GUEST','M.P.','MUFFLED VOICE','ELDERS, WARRIORS, DORA','CROWD']\n",
    "\n",
    "for i in unique_characters:\n",
    "    if i not in male and i not in female and i not in t and i not in neutral:\n",
    "        print(i)\n",
    "# for i in unique_characters:\n",
    "    # if i in t:\n",
    "        # print(i)"
   ]
  },
  {
   "cell_type": "code",
   "execution_count": 5,
   "metadata": {},
   "outputs": [
    {
     "name": "stdout",
     "output_type": "stream",
     "text": [
      "42\n"
     ]
    }
   ],
   "source": [
    "csv = pd.read_csv(os.path.join(csv_path, filename))\n",
    "csv['character'] = csv['character'].replace('BUCKY BARNES','BUCKY')\n",
    "csv['character'] = csv['character'].replace('MRS SPENCER','MRS. SPENCER')\n",
    "csv['character'] = csv['character'].replace('NEWS ANCHOR #1','NEWS ANCHOR')\n",
    "csv['character'] = csv['character'].replace('NEWS ANCHOR #2','NEWS ANCHOR')\n",
    "csv['character'] = csv['character'].replace('NEWS ANCHOR #3','NEWS ANCHOR')\n",
    "csv['character'] = csv['character'].replace('FEDEX DRIVER STAN LEE','STAN LEE')\n",
    "csv['character'] = csv['character'].replace('NEWS ANCHOR #4','NEWS ANCHOR')\n",
    "csv['character'] = csv['character'].replace('T\\'CHALLA','T\\'CHALA')\n",
    "csv['character'] = csv['character'].replace('NEWS ANCHOR #5','NEWS ANCHOR')\n",
    "csv['character'] = csv['character'].replace('JOSEF / SUPER SOLDIER #1','JOSEF')\n",
    "csv['character'] = csv['character'].replace('MERCENARY #1','MERCENARY')\n",
    "csv['character'] = csv['character'].replace('MERCENARY #2','MERCENARY')\n",
    "csv['character'] = csv['character'].replace('YOUNG TONY STARK','TONY STARK')\n",
    "csv['character'] = csv['character'].replace('KING T\\'CHAKA','T\\'CHALA')\n",
    "csv['character'] = csv['character'].replace('MAN ON PA #1','MAN ON PA')\n",
    "csv['character'] = csv['character'].replace('MAN ON PA #2','MAN ON PA')\n",
    "\n",
    "\n",
    "all_chars = csv['character'].values\n",
    "all_genders = []\n",
    "for i in all_chars:\n",
    "    if i in male:\n",
    "        all_genders.append(\"MALE\")\n",
    "    elif i in female:\n",
    "        all_genders.append(\"FEMALE\")\n",
    "    elif i in neutral:\n",
    "        all_genders.append(\"NEUTRAL\")\n",
    "    else:\n",
    "        print(i)\n",
    "\n",
    "# print unique characters\n",
    "# print len of unique characters\n",
    "print(len(csv['character'].unique()))\n",
    "for i in csv['character'].unique():\n",
    "    if i in t:\n",
    "        print(i)\n",
    "csv[\"gender\"] = all_genders\n",
    "csv.to_csv(os.path.join(csv_path, filename))"
   ]
  },
  {
   "cell_type": "code",
   "execution_count": 6,
   "metadata": {},
   "outputs": [
    {
     "name": "stdout",
     "output_type": "stream",
     "text": [
      "987\n",
      "987\n"
     ]
    }
   ],
   "source": [
    "print(len(csv['character']))\n",
    "print(len(csv['gender']))"
   ]
  },
  {
   "cell_type": "code",
   "execution_count": null,
   "metadata": {},
   "outputs": [],
   "source": []
  },
  {
   "cell_type": "code",
   "execution_count": null,
   "metadata": {},
   "outputs": [],
   "source": []
  },
  {
   "cell_type": "code",
   "execution_count": null,
   "metadata": {},
   "outputs": [],
   "source": []
  },
  {
   "cell_type": "code",
   "execution_count": null,
   "metadata": {},
   "outputs": [],
   "source": []
  },
  {
   "cell_type": "code",
   "execution_count": null,
   "metadata": {},
   "outputs": [],
   "source": []
  },
  {
   "cell_type": "code",
   "execution_count": null,
   "metadata": {},
   "outputs": [],
   "source": []
  },
  {
   "cell_type": "code",
   "execution_count": null,
   "metadata": {},
   "outputs": [],
   "source": []
  },
  {
   "cell_type": "code",
   "execution_count": 8,
   "metadata": {},
   "outputs": [
    {
     "name": "stdout",
     "output_type": "stream",
     "text": [
      "set()\n"
     ]
    }
   ],
   "source": [
    "test_csv = pd.read_csv(\"script_csv/civil_war.csv\")\n",
    "\n",
    "temp = []\n",
    "# print all the lines which have gender as NEUTRAL\n",
    "for i in range(len(test_csv['character'])):\n",
    "    if test_csv['gender'][i] == \"NEUTRAL\":\n",
    "        temp.append(test_csv['character'][i])\n",
    "print(set(temp))\n",
    "\n",
    "# males = ['CLINT BARTON','JAMES RHODES','TONY STARK','STEVE ROGERS','THANOS','THOR','BRUCE BANNER','SCOTT LANG','JAMES RHODES','PETER QUILL','PETER PARKER','NICK FURY','TANELEER TIVAN','DRAX','GROOT','ROCKET','EBONY MAW','CORVUS GLAIVE','CULL OBSIDIAN','HOWARD STARK','EDWIN JARVIS','ALEXANDER PIERCE']\n",
    "# female = ['NEBULA','NATASHA ROMANOFF','CAROL DANVERS','WANDA MAXIMOFF','FRIGGA','PEPPER POTTS','SHURI','OKOYE','JANE FOSTER','MARIA HILL','VALKYRIE','MANTIS','THE ANCIENT ONE','HOPE VAN DYNE','JANET VAN DYNE','PEPPER POTTS','MORGAN STARK','HARLEY KEENER']\n",
    "\n",
    "# gender = []\n",
    "# for i in range(len(test_csv['character'])):\n",
    "#     if test_csv['gender'][i] == \"NEUTRAL\":\n",
    "#         if test_csv['character'][i] in males:\n",
    "#             gender.append('MALE')\n",
    "#         elif test_csv['character'][i] in female:\n",
    "#             gender.append('FEMALE')\n",
    "#         else:\n",
    "#             gender.append('NEUTRAL')\n",
    "#     else:\n",
    "#         gender.append(test_csv['gender'][i])\n",
    "\n",
    "# test_csv['gender'] = gender\n",
    "# test_csv.to_csv(\"script_csv/avengers_endgame.csv\")\n",
    "\n"
   ]
  },
  {
   "cell_type": "code",
   "execution_count": null,
   "metadata": {},
   "outputs": [],
   "source": []
  }
 ],
 "metadata": {
  "kernelspec": {
   "display_name": "dl",
   "language": "python",
   "name": "python3"
  },
  "language_info": {
   "codemirror_mode": {
    "name": "ipython",
    "version": 3
   },
   "file_extension": ".py",
   "mimetype": "text/x-python",
   "name": "python",
   "nbconvert_exporter": "python",
   "pygments_lexer": "ipython3",
   "version": "3.11.7"
  }
 },
 "nbformat": 4,
 "nbformat_minor": 2
}
