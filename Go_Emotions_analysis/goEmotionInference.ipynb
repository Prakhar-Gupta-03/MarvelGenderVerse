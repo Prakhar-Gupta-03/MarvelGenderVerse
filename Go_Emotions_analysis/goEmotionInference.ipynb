{
 "cells": [
  {
   "cell_type": "markdown",
   "metadata": {},
   "source": [
    "#### Importing Libraries"
   ]
  },
  {
   "cell_type": "code",
   "execution_count": 1,
   "metadata": {},
   "outputs": [
    {
     "name": "stderr",
     "output_type": "stream",
     "text": [
      "c:\\Users\\prakh\\anaconda3\\envs\\goemotions\\lib\\site-packages\\tqdm\\auto.py:21: TqdmWarning: IProgress not found. Please update jupyter and ipywidgets. See https://ipywidgets.readthedocs.io/en/stable/user_install.html\n",
      "  from .autonotebook import tqdm as notebook_tqdm\n"
     ]
    }
   ],
   "source": [
    "from transformers import BertTokenizer\n",
    "from model import BertForMultiLabelClassification\n",
    "from multilabel_pipeline import MultiLabelPipeline\n",
    "from pprint import pprint\n",
    "import os\n",
    "import pandas as pd\n",
    "from scipy.special import softmax\n",
    "import numpy as np\n",
    "from tqdm import tqdm\n",
    "tqdm.pandas()\n",
    "import matplotlib.pyplot as plt"
   ]
  },
  {
   "cell_type": "markdown",
   "metadata": {},
   "source": [
    "#### Tokenizer, Model and Pipeline Setup"
   ]
  },
  {
   "cell_type": "code",
   "execution_count": 2,
   "metadata": {},
   "outputs": [],
   "source": [
    "tokenizer = BertTokenizer.from_pretrained(\"monologg/bert-base-cased-goemotions-original\")"
   ]
  },
  {
   "cell_type": "code",
   "execution_count": 3,
   "metadata": {},
   "outputs": [],
   "source": [
    "model = BertForMultiLabelClassification.from_pretrained(\"monologg/bert-base-cased-goemotions-original\")"
   ]
  },
  {
   "cell_type": "code",
   "execution_count": 4,
   "metadata": {},
   "outputs": [],
   "source": [
    "goemotions = MultiLabelPipeline(\n",
    "    model=model,\n",
    "    tokenizer=tokenizer,\n",
    "    threshold=0.3\n",
    ")"
   ]
  },
  {
   "cell_type": "markdown",
   "metadata": {},
   "source": [
    "#### Inference"
   ]
  },
  {
   "cell_type": "code",
   "execution_count": 5,
   "metadata": {},
   "outputs": [],
   "source": [
    "all_emotions = ['admiration', 'amusement', 'anger', 'annoyance', 'approval', 'caring', 'confusion', 'curiosity', 'desire', 'disappointment', 'disapproval', 'disgust', 'embarrassment', 'excitement', 'fear', 'gratitude', 'grief', 'joy', 'love', 'nervousness', 'optimism', 'pride', 'realization', 'relief', 'remorse', 'sadness', 'surprise', 'neutral']"
   ]
  },
  {
   "cell_type": "code",
   "execution_count": 6,
   "metadata": {},
   "outputs": [],
   "source": [
    "filtered_emotions = ['happy', 'sad', 'disgusted', 'angry', 'fearful', 'neutral', 'surprised']"
   ]
  },
  {
   "cell_type": "code",
   "execution_count": 7,
   "metadata": {},
   "outputs": [],
   "source": [
    "all_to_filtered = {\n",
    "    'happy' : ['admiration', 'approval', 'caring', 'desire', 'gratitude', 'joy', 'love', 'optimism', 'pride'],\n",
    "    'sad' : ['embarrassment', 'grief', 'remorse', 'sadness'],\n",
    "    'disgusted' : ['disappointment' ,'disapproval', 'disgust'],\n",
    "    'angry' : ['anger', 'annoyance'],\n",
    "    'fearful' : ['fear', 'nervousness'],\n",
    "    'surprised' : ['amusement', 'confusion', 'curiosity', 'excitement', 'surprise'], \n",
    "    'neutral' : ['realization', 'neutral', 'relief']\n",
    "}"
   ]
  },
  {
   "cell_type": "code",
   "execution_count": 8,
   "metadata": {},
   "outputs": [],
   "source": [
    "def process_line(line):\n",
    "    emotion_prediction = goemotions(line)[0]\n",
    "    labels, scores = emotion_prediction['labels'], emotion_prediction['scores']\n",
    "    emotion_prediction = dict(zip(labels, scores))\n",
    "    for emotion in all_emotions:\n",
    "        if emotion not in emotion_prediction:\n",
    "            emotion_prediction[emotion] = 0\n",
    "    # Filter out emotions by clubbing them \n",
    "    filtered_prediction = {}\n",
    "    for filtered_emotion in filtered_emotions:\n",
    "        filtered_prediction[filtered_emotion] = sum([emotion_prediction[emotion] for emotion in all_to_filtered[filtered_emotion]])\n",
    "    # Normalize filtered_prediction using softmax\n",
    "    labels, scores = list(filtered_prediction.keys()), list(filtered_prediction.values())\n",
    "    # scores = softmax(scores)\n",
    "    emotion_prediction = dict(zip(labels, scores))\n",
    "    return pd.Series(emotion_prediction)"
   ]
  },
  {
   "cell_type": "code",
   "execution_count": 9,
   "metadata": {},
   "outputs": [],
   "source": [
    "def process_line(line):\n",
    "    emotion_prediction = goemotions(line)[0]\n",
    "    labels, scores = emotion_prediction['labels'], emotion_prediction['scores']\n",
    "    emotion_prediction = dict(zip(labels, scores))\n",
    "    for emotion in all_emotions:\n",
    "        if emotion not in emotion_prediction:\n",
    "            emotion_prediction[emotion] = 0\n",
    "    return pd.Series(emotion_prediction)"
   ]
  },
  {
   "cell_type": "code",
   "execution_count": 24,
   "metadata": {},
   "outputs": [],
   "source": [
    "goemotions = MultiLabelPipeline(\n",
    "    model=model,\n",
    "    tokenizer=tokenizer,\n",
    "    threshold=0.0\n",
    ")\n",
    "def process_line_filtered(line):\n",
    "    emotion_prediction = goemotions(line)[0]\n",
    "    labels, scores = emotion_prediction['labels'], emotion_prediction['scores']\n",
    "    emotion_prediction = dict(zip(labels, scores))\n",
    "    for emotion in all_emotions:\n",
    "        if emotion not in emotion_prediction:\n",
    "            emotion_prediction[emotion] = 0\n",
    "    # Filter out emotions by clubbing them\n",
    "    filter_emotions = {}\n",
    "    for filtered_emotion in filtered_emotions:\n",
    "        filter_emotions[filtered_emotion] = sum([emotion_prediction[emotion] for emotion in all_to_filtered[filtered_emotion]])\n",
    "    # print(filter_emotions)\n",
    "    return pd.Series(filtered_emotions)"
   ]
  },
  {
   "cell_type": "code",
   "execution_count": 21,
   "metadata": {},
   "outputs": [
    {
     "name": "stdout",
     "output_type": "stream",
     "text": [
      "{'happy': 0.9931343586649746, 'sad': 0.0012720050290226936, 'disgusted': 0.0020010421285405755, 'angry': 0.0016621244722045958, 'fearful': 0.0006890575459692627, 'neutral': 0.020537185366265476, 'surprised': 0.06899285491090268}\n",
      "0        happy\n",
      "1          sad\n",
      "2    disgusted\n",
      "3        angry\n",
      "4      fearful\n",
      "5      neutral\n",
      "6    surprised\n",
      "dtype: object\n"
     ]
    }
   ],
   "source": [
    "text = \"I am so happy today\"\n",
    "print(process_line_filtered(text))"
   ]
  },
  {
   "cell_type": "code",
   "execution_count": 11,
   "metadata": {},
   "outputs": [
    {
     "name": "stderr",
     "output_type": "stream",
     "text": [
      "100%|██████████| 980/980 [03:07<00:00,  5.21it/s]\n",
      "100%|██████████| 867/867 [02:19<00:00,  6.23it/s]\n",
      "100%|██████████| 1027/1027 [03:29<00:00,  4.90it/s]\n",
      "100%|██████████| 1027/1027 [01:36<00:00, 10.68it/s]\n",
      "100%|██████████| 834/834 [00:51<00:00, 16.07it/s]\n",
      "100%|██████████| 688/688 [00:54<00:00, 12.73it/s]\n",
      "100%|██████████| 987/987 [01:12<00:00, 13.59it/s]\n",
      "100%|██████████| 990/990 [01:11<00:00, 13.77it/s]\n",
      "100%|██████████| 834/834 [01:16<00:00, 10.93it/s]\n",
      "100%|██████████| 1010/1010 [01:33<00:00, 10.83it/s]\n",
      "100%|██████████| 1043/1043 [01:53<00:00,  9.16it/s]\n",
      "100%|██████████| 961/961 [01:38<00:00,  9.77it/s]\n",
      "100%|██████████| 1007/1007 [02:41<00:00,  6.23it/s]\n",
      "100%|██████████| 734/734 [01:33<00:00,  7.88it/s]\n",
      "100%|██████████| 841/841 [01:45<00:00,  7.97it/s]\n",
      "100%|██████████| 15/15 [27:06<00:00, 108.45s/it]\n"
     ]
    }
   ],
   "source": [
    "folder_path = './script_csv'\n",
    "output_path = './script_csv_go_emotion'\n",
    "for file_name in tqdm(os.listdir(folder_path)):\n",
    "    if file_name.endswith('.csv'):\n",
    "        data = pd.read_csv(os.path.join(folder_path, file_name))\n",
    "        data[all_emotions] = 0\n",
    "        data[all_emotions] = data['line'].progress_apply(process_line)\n",
    "        data.to_csv(os.path.join(output_path, file_name), index=False)"
   ]
  },
  {
   "cell_type": "code",
   "execution_count": 25,
   "metadata": {},
   "outputs": [
    {
     "name": "stderr",
     "output_type": "stream",
     "text": [
      "  0%|          | 0/15 [00:00<?, ?it/s]"
     ]
    },
    {
     "name": "stderr",
     "output_type": "stream",
     "text": [
      "100%|██████████| 980/980 [03:02<00:00,  5.38it/s]\n",
      "100%|██████████| 867/867 [01:27<00:00,  9.94it/s]\n",
      "100%|██████████| 1027/1027 [01:54<00:00,  8.93it/s]\n",
      "100%|██████████| 1027/1027 [02:05<00:00,  8.16it/s]\n",
      "100%|██████████| 834/834 [01:58<00:00,  7.01it/s]\n",
      "100%|██████████| 688/688 [01:31<00:00,  7.48it/s]\n",
      "100%|██████████| 987/987 [02:30<00:00,  6.57it/s]\n",
      "100%|██████████| 990/990 [03:26<00:00,  4.79it/s]\n",
      "100%|██████████| 834/834 [02:41<00:00,  5.17it/s]\n",
      "100%|██████████| 1010/1010 [04:42<00:00,  3.57it/s]\n",
      "100%|██████████| 1043/1043 [03:00<00:00,  5.79it/s]\n",
      "100%|██████████| 961/961 [02:42<00:00,  5.93it/s]\n",
      "100%|██████████| 1007/1007 [02:44<00:00,  6.12it/s]\n",
      "100%|██████████| 734/734 [01:52<00:00,  6.50it/s]\n",
      "100%|██████████| 841/841 [01:49<00:00,  7.70it/s]\n",
      "100%|██████████| 15/15 [37:31<00:00, 150.13s/it]\n"
     ]
    }
   ],
   "source": [
    "folder_path = './script_csv'\n",
    "output_path = './script_csv_go_emotion_filtered'\n",
    "for file_name in tqdm(os.listdir(folder_path)):\n",
    "    if file_name.endswith('.csv'):\n",
    "        data = pd.read_csv(os.path.join(folder_path, file_name))\n",
    "        data[filtered_emotions] = 0\n",
    "        data[filtered_emotions] = data['line'].progress_apply(process_line_filtered)\n",
    "        data.to_csv(os.path.join(output_path, file_name), index=False)"
   ]
  }
 ],
 "metadata": {
  "kernelspec": {
   "display_name": "goemotions",
   "language": "python",
   "name": "python3"
  },
  "language_info": {
   "codemirror_mode": {
    "name": "ipython",
    "version": 3
   },
   "file_extension": ".py",
   "mimetype": "text/x-python",
   "name": "python",
   "nbconvert_exporter": "python",
   "pygments_lexer": "ipython3",
   "version": "3.8.19"
  }
 },
 "nbformat": 4,
 "nbformat_minor": 2
}
