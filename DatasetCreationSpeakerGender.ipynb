{
 "cells": [
  {
   "cell_type": "code",
   "execution_count": 1,
   "metadata": {},
   "outputs": [],
   "source": [
    "import os\n",
    "import pandas as pd\n",
    "from tqdm import tqdm\n",
    "\n",
    "# captain america\n",
    "# gaurdians 2"
   ]
  },
  {
   "cell_type": "code",
   "execution_count": 42,
   "metadata": {},
   "outputs": [
    {
     "ename": "FileNotFoundError",
     "evalue": "[Errno 2] No such file or directory: 'script_csv\\\\'",
     "output_type": "error",
     "traceback": [
      "\u001b[1;31m---------------------------------------------------------------------------\u001b[0m",
      "\u001b[1;31mFileNotFoundError\u001b[0m                         Traceback (most recent call last)",
      "Cell \u001b[1;32mIn[42], line 6\u001b[0m\n\u001b[0;32m      4\u001b[0m filename \u001b[38;5;241m=\u001b[39m \u001b[38;5;124m\"\u001b[39m\u001b[38;5;124m\"\u001b[39m\n\u001b[0;32m      5\u001b[0m \u001b[38;5;66;03m# iterate folder\u001b[39;00m\n\u001b[1;32m----> 6\u001b[0m \u001b[38;5;28;01mwith\u001b[39;00m \u001b[38;5;28;43mopen\u001b[39;49m\u001b[43m(\u001b[49m\u001b[43mos\u001b[49m\u001b[38;5;241;43m.\u001b[39;49m\u001b[43mpath\u001b[49m\u001b[38;5;241;43m.\u001b[39;49m\u001b[43mjoin\u001b[49m\u001b[43m(\u001b[49m\u001b[43mcsv_path\u001b[49m\u001b[43m,\u001b[49m\u001b[43m \u001b[49m\u001b[43mfilename\u001b[49m\u001b[43m)\u001b[49m\u001b[43m)\u001b[49m \u001b[38;5;28;01mas\u001b[39;00m csv_file:\n\u001b[0;32m      7\u001b[0m     df \u001b[38;5;241m=\u001b[39m pd\u001b[38;5;241m.\u001b[39mread_csv(csv_file)\n\u001b[0;32m      8\u001b[0m     unique_characters\u001b[38;5;241m.\u001b[39mextend(df[\u001b[38;5;124m'\u001b[39m\u001b[38;5;124mcharacter\u001b[39m\u001b[38;5;124m'\u001b[39m]\u001b[38;5;241m.\u001b[39munique())\n",
      "File \u001b[1;32mc:\\Users\\Vartika\\anaconda3\\envs\\dl\\Lib\\site-packages\\IPython\\core\\interactiveshell.py:324\u001b[0m, in \u001b[0;36m_modified_open\u001b[1;34m(file, *args, **kwargs)\u001b[0m\n\u001b[0;32m    317\u001b[0m \u001b[38;5;28;01mif\u001b[39;00m file \u001b[38;5;129;01min\u001b[39;00m {\u001b[38;5;241m0\u001b[39m, \u001b[38;5;241m1\u001b[39m, \u001b[38;5;241m2\u001b[39m}:\n\u001b[0;32m    318\u001b[0m     \u001b[38;5;28;01mraise\u001b[39;00m \u001b[38;5;167;01mValueError\u001b[39;00m(\n\u001b[0;32m    319\u001b[0m         \u001b[38;5;124mf\u001b[39m\u001b[38;5;124m\"\u001b[39m\u001b[38;5;124mIPython won\u001b[39m\u001b[38;5;124m'\u001b[39m\u001b[38;5;124mt let you open fd=\u001b[39m\u001b[38;5;132;01m{\u001b[39;00mfile\u001b[38;5;132;01m}\u001b[39;00m\u001b[38;5;124m by default \u001b[39m\u001b[38;5;124m\"\u001b[39m\n\u001b[0;32m    320\u001b[0m         \u001b[38;5;124m\"\u001b[39m\u001b[38;5;124mas it is likely to crash IPython. If you know what you are doing, \u001b[39m\u001b[38;5;124m\"\u001b[39m\n\u001b[0;32m    321\u001b[0m         \u001b[38;5;124m\"\u001b[39m\u001b[38;5;124myou can use builtins\u001b[39m\u001b[38;5;124m'\u001b[39m\u001b[38;5;124m open.\u001b[39m\u001b[38;5;124m\"\u001b[39m\n\u001b[0;32m    322\u001b[0m     )\n\u001b[1;32m--> 324\u001b[0m \u001b[38;5;28;01mreturn\u001b[39;00m \u001b[43mio_open\u001b[49m\u001b[43m(\u001b[49m\u001b[43mfile\u001b[49m\u001b[43m,\u001b[49m\u001b[43m \u001b[49m\u001b[38;5;241;43m*\u001b[39;49m\u001b[43margs\u001b[49m\u001b[43m,\u001b[49m\u001b[43m \u001b[49m\u001b[38;5;241;43m*\u001b[39;49m\u001b[38;5;241;43m*\u001b[39;49m\u001b[43mkwargs\u001b[49m\u001b[43m)\u001b[49m\n",
      "\u001b[1;31mFileNotFoundError\u001b[0m: [Errno 2] No such file or directory: 'script_csv\\\\'"
     ]
    }
   ],
   "source": [
    "unique_characters = []\n",
    "\n",
    "csv_path = 'script_csv'\n",
    "filename = \"\"\n",
    "# iterate folder\n",
    "with open(os.path.join(csv_path, filename)) as csv_file:\n",
    "    df = pd.read_csv(csv_file)\n",
    "    unique_characters.extend(df['character'].unique())\n",
    "print('Processed:', filename)\n",
    "\n",
    "\n",
    "print('Total characters:', len(unique_characters))\n",
    "print('Unique characters:', len(set(unique_characters)))\n",
    "print(unique_characters)"
   ]
  },
  {
   "cell_type": "code",
   "execution_count": 36,
   "metadata": {},
   "outputs": [],
   "source": [
    "male = ['STEVE ROGERS','SAM WILSON','SEARCH TEAM LEADER','SHIELD TECH','SHIELD LIEUTENANT','JAN','TOWER KEEPER','HYDRA LIEUTENANT',\n",
    "        'RED SKULL','4F DOCTOR','ENLISTMENT GUY','COMMERCIAL ANNOUNCER','LOUD JERK','JAMES BARNES','HOWARD STARK','YOUNG DOCTOR',\n",
    "        'DR. ABRAHAM ERSKINE','COLONEL PHILLIPS','DR. ARNIM ZOLA','GILMORE HODGE','COL. CHESTER PHILLIPS','SERGEANT DUFFY',\n",
    "        'SOLDIERS','SENATOR BRANDT','HEINZ KRUGER','SSR DOCTOR','TAXI DRIVER','HUTTER','SCHNEIDER','ROEDER','YOUNG BOY',\n",
    "        'BRANDT\\'S AIDE','USO SINGER','DIRECTOR','DUM DUM DUGAN','GABE JONES','JAMES MONTGOMERY FALSWORTH','JIM MORITA',\n",
    "        'HYDRA GUARDS','CORPORAL','MAN#1','MAN#2','GENERAL','GUARD','JACQUES DERNEIR','MAN ON THE RADIO','HYDRA SOLDIER',\n",
    "        'STARK\\'S ENGINEER','DODGERS ANNOUNCER','SHIELD AGENT','NICK FURY'\n",
    "        ]\n",
    "\n",
    "female = ['CONNIE','EXPO ANNOUNCER','PEGGY CARTER','SHARON CARTER','RANDOM WOMAN','MANDY','WOMAN','OFFICER',\n",
    "          'ANTIQUE STORE OWNER','MOTHER','HYDRA TECHNICIANS','KIDS IN USO AUDIENECE','ARMY HECKLER#1','ARMY HECKLER#2',\n",
    "          'ARMY HECKLER#3','ARMY HECKLER#4','USO GIRL','BARKEEPER','PVT. LORRAINE','FACILITY MANAGER',]\n",
    "\n",
    "t = []\n",
    "neutral = ['TEXT MESSAGE','OLD FOOTAGE RECORDING','25TH FLOOR STRIKE AGENT','VOICE FROM EARPIECE','KIDS IN USO AUDIENCE',]\n",
    "\n",
    "for i in unique_characters:\n",
    "    if i not in male and i not in female and i not in t and i not in neutral:\n",
    "        print(i)\n",
    "# for i in unique_characters:\n",
    "    # if i in t:\n",
    "        # print(i)"
   ]
  },
  {
   "cell_type": "code",
   "execution_count": 37,
   "metadata": {},
   "outputs": [
    {
     "name": "stdout",
     "output_type": "stream",
     "text": [
      "69\n"
     ]
    }
   ],
   "source": [
    "csv = pd.read_csv(os.path.join(csv_path, filename))\n",
    "all_chars = csv['character'].values\n",
    "all_genders = []\n",
    "for i in all_chars:\n",
    "    if i in male:\n",
    "        all_genders.append(\"MALE\")\n",
    "    elif i in female:\n",
    "        all_genders.append(\"FEMALE\")\n",
    "    elif i in neutral:\n",
    "        all_genders.append(\"NEUTRAL\")\n",
    "    else:\n",
    "        print(i)\n",
    "\n",
    "# print unique characters\n",
    "# print len of unique characters\n",
    "print(len(csv['character'].unique()))\n",
    "for i in csv['character'].unique():\n",
    "    if i in t:\n",
    "        print(i)\n",
    "csv[\"gender\"] = all_genders\n",
    "csv.to_csv(os.path.join(csv_path, filename))"
   ]
  },
  {
   "cell_type": "code",
   "execution_count": 38,
   "metadata": {},
   "outputs": [
    {
     "name": "stdout",
     "output_type": "stream",
     "text": [
      "688\n",
      "688\n"
     ]
    }
   ],
   "source": [
    "print(len(csv['character']))\n",
    "print(len(csv['gender']))"
   ]
  },
  {
   "cell_type": "code",
   "execution_count": 52,
   "metadata": {},
   "outputs": [
    {
     "name": "stdout",
     "output_type": "stream",
     "text": [
      "character\n",
      "line\n",
      "gender\n",
      "character\n",
      "line\n",
      "gender\n",
      "character\n",
      "line\n",
      "gender\n",
      "character\n",
      "line\n",
      "gender\n",
      "character\n",
      "line\n",
      "gender\n",
      "character\n",
      "line\n",
      "gender\n",
      "character\n",
      "line\n",
      "gender\n",
      "character\n",
      "line\n",
      "gender\n",
      "character\n",
      "line\n",
      "gender\n",
      "character\n",
      "line\n",
      "gender\n",
      "character\n",
      "line\n",
      "gender\n",
      "character\n",
      "line\n",
      "gender\n",
      "character\n",
      "line\n",
      "gender\n",
      "character\n",
      "line\n",
      "gender\n",
      "character\n",
      "line\n",
      "gender\n"
     ]
    }
   ],
   "source": [
    "folder = 'script_csv'\n",
    "for filename in os.listdir(folder):\n",
    "    if filename.endswith('.csv'):\n",
    "        with open(os.path.join(folder, filename)) as csv_file:\n",
    "            df = pd.read_csv(csv_file)\n",
    "            # if there is any column which has unnamed in it, drop it\n",
    "            for i in df.columns:\n",
    "                print(i.lower())\n",
    "                if 'unnamed:' in i.lower():\n",
    "                    print('Dropping:', i)\n",
    "                    df.drop(i, axis=1, inplace=True)\n",
    "            df.to_csv(os.path.join(folder, filename), index=False)\n"
   ]
  },
  {
   "cell_type": "code",
   "execution_count": null,
   "metadata": {},
   "outputs": [],
   "source": []
  },
  {
   "cell_type": "code",
   "execution_count": null,
   "metadata": {},
   "outputs": [],
   "source": []
  },
  {
   "cell_type": "code",
   "execution_count": null,
   "metadata": {},
   "outputs": [],
   "source": []
  },
  {
   "cell_type": "code",
   "execution_count": null,
   "metadata": {},
   "outputs": [],
   "source": []
  },
  {
   "cell_type": "code",
   "execution_count": null,
   "metadata": {},
   "outputs": [],
   "source": []
  },
  {
   "cell_type": "code",
   "execution_count": null,
   "metadata": {},
   "outputs": [],
   "source": []
  },
  {
   "cell_type": "code",
   "execution_count": 39,
   "metadata": {},
   "outputs": [
    {
     "name": "stdout",
     "output_type": "stream",
     "text": [
      "{'25TH FLOOR STRIKE AGENT', 'TEXT MESSAGE', 'OLD FOOTAGE RECORDING'}\n"
     ]
    }
   ],
   "source": [
    "test_csv = pd.read_csv(\"script_csv/winter_soldier.csv\")\n",
    "\n",
    "temp = []\n",
    "# print all the lines which have gender as NEUTRAL\n",
    "for i in range(len(test_csv['character'])):\n",
    "    if test_csv['gender'][i] == \"NEUTRAL\":\n",
    "        temp.append(test_csv['character'][i])\n",
    "print(set(temp))\n",
    "\n",
    "# males = ['CLINT BARTON','JAMES RHODES','TONY STARK','STEVE ROGERS','THANOS','THOR','BRUCE BANNER','SCOTT LANG','JAMES RHODES','PETER QUILL','PETER PARKER','NICK FURY','TANELEER TIVAN','DRAX','GROOT','ROCKET','EBONY MAW','CORVUS GLAIVE','CULL OBSIDIAN','HOWARD STARK','EDWIN JARVIS','ALEXANDER PIERCE']\n",
    "# female = ['NEBULA','NATASHA ROMANOFF','CAROL DANVERS','WANDA MAXIMOFF','FRIGGA','PEPPER POTTS','SHURI','OKOYE','JANE FOSTER','MARIA HILL','VALKYRIE','MANTIS','THE ANCIENT ONE','HOPE VAN DYNE','JANET VAN DYNE','PEPPER POTTS','MORGAN STARK','HARLEY KEENER']\n",
    "\n",
    "# gender = []\n",
    "# for i in range(len(test_csv['character'])):\n",
    "#     if test_csv['gender'][i] == \"NEUTRAL\":\n",
    "#         if test_csv['character'][i] in males:\n",
    "#             gender.append('MALE')\n",
    "#         elif test_csv['character'][i] in female:\n",
    "#             gender.append('FEMALE')\n",
    "#         else:\n",
    "#             gender.append('NEUTRAL')\n",
    "#     else:\n",
    "#         gender.append(test_csv['gender'][i])\n",
    "\n",
    "# test_csv['gender'] = gender\n",
    "# test_csv.to_csv(\"script_csv/avengers_endgame.csv\")\n",
    "\n"
   ]
  },
  {
   "cell_type": "code",
   "execution_count": null,
   "metadata": {},
   "outputs": [],
   "source": []
  }
 ],
 "metadata": {
  "kernelspec": {
   "display_name": "dl",
   "language": "python",
   "name": "python3"
  },
  "language_info": {
   "codemirror_mode": {
    "name": "ipython",
    "version": 3
   },
   "file_extension": ".py",
   "mimetype": "text/x-python",
   "name": "python",
   "nbconvert_exporter": "python",
   "pygments_lexer": "ipython3",
   "version": "3.11.7"
  }
 },
 "nbformat": 4,
 "nbformat_minor": 2
}
