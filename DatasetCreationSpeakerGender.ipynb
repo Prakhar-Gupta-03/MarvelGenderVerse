{
 "cells": [
  {
   "cell_type": "code",
   "execution_count": 1,
   "metadata": {},
   "outputs": [],
   "source": [
    "import os\n",
    "import pandas as pd\n",
    "from tqdm import tqdm\n",
    "\n",
    "# captain america\n",
    "# gaurdians 2"
   ]
  },
  {
   "cell_type": "code",
   "execution_count": 40,
   "metadata": {},
   "outputs": [
    {
     "name": "stdout",
     "output_type": "stream",
     "text": [
      "Processed: spider_man_homecoming.csv\n",
      "Total characters: 85\n",
      "Unique characters: 85\n",
      "['TOOMES', 'MASON', 'SCHULTZ', 'BRICE', 'ANNE MARIE HOAG', 'DODC AGENT', 'WORKER', 'NEWS ANCHOR', 'PETER', 'HAPPY', 'TONY', 'FLASH', 'BETTY', 'JASON', 'PRINCIPAL MORITA', 'NED', 'CHEERLEADER', 'GIRL', 'MS. WARREN', 'MR. COBBWELL', 'LIZ', 'MICHELLE', 'CHARLES', 'ABE', 'MR. HARRINGTON', 'CINDY', 'SALLY', 'MAN', 'MR. DELMAR', 'DELI CLERK', 'STREET VENDOR', 'CAR JACKER', 'MARJORIE', 'DAY SLEEPER', 'OLD MAN', 'RESIDENT 1', 'RESIDENT 2', 'GARY', 'VOICEMAIL', 'ROBBER 1', 'ROBBER 2', 'ROBBER 3', 'ROBBER 4', '911 OPERATOR', 'MAY', 'THAI WAITER', 'HISTORY TEACHER', 'STEVE', 'COACH WILSON', 'ANNIE', 'MALE VOICE', 'AARON', 'TENT KIDS', 'FRIDAY', 'CROWD', 'MR. HAPGOOD', 'TINY', 'RANDY', 'FRIEND', 'SUIT LADY', 'DODC CENTRAL', 'DODC DRIVER', 'VULTURE', 'KAREN', 'STUDENT', 'MODERATOR', 'SECURITY', 'TOUR GUIDE', 'TOURIST', 'PARK RANGER', 'PETER PETER', 'POLICE', 'STUDENTS', 'LIZ/NED', 'DORIS', 'FAMILIES', 'JASON/BETTY', 'FBI AGENT 1', 'FBI AGENT 2', 'SPANISH TEACHER', 'TECH', 'DECATHLON TEAM', 'PEPPER', 'GARGAN', 'GUARD']\n"
     ]
    }
   ],
   "source": [
    "unique_characters = []\n",
    "\n",
    "csv_path = 'script_csv'\n",
    "filename = 'spider_man_homecoming.csv'\n",
    "# iterate folder\n",
    "with open(os.path.join(csv_path, filename)) as csv_file:\n",
    "    df = pd.read_csv(csv_file)\n",
    "    unique_characters.extend(df['character'].unique())\n",
    "print('Processed:', filename)\n",
    "\n",
    "\n",
    "print('Total characters:', len(unique_characters))\n",
    "print('Unique characters:', len(set(unique_characters)))\n",
    "print(unique_characters)"
   ]
  },
  {
   "cell_type": "code",
   "execution_count": 36,
   "metadata": {},
   "outputs": [],
   "source": [
    "male = ['STEVE ROGERS','SAM WILSON','SEARCH TEAM LEADER','SHIELD TECH','SHIELD LIEUTENANT','JAN','TOWER KEEPER','HYDRA LIEUTENANT',\n",
    "        'RED SKULL','4F DOCTOR','ENLISTMENT GUY','COMMERCIAL ANNOUNCER','LOUD JERK','JAMES BARNES','HOWARD STARK','YOUNG DOCTOR',\n",
    "        'DR. ABRAHAM ERSKINE','COLONEL PHILLIPS','DR. ARNIM ZOLA','GILMORE HODGE','COL. CHESTER PHILLIPS','SERGEANT DUFFY',\n",
    "        'SOLDIERS','SENATOR BRANDT','HEINZ KRUGER','SSR DOCTOR','TAXI DRIVER','HUTTER','SCHNEIDER','ROEDER','YOUNG BOY',\n",
    "        'BRANDT\\'S AIDE','USO SINGER','DIRECTOR','DUM DUM DUGAN','GABE JONES','JAMES MONTGOMERY FALSWORTH','JIM MORITA',\n",
    "        'HYDRA GUARDS','CORPORAL','MAN#1','MAN#2','GENERAL','GUARD','JACQUES DERNEIR','MAN ON THE RADIO','HYDRA SOLDIER',\n",
    "        'STARK\\'S ENGINEER','DODGERS ANNOUNCER','SHIELD AGENT','NICK FURY'\n",
    "        ]\n",
    "\n",
    "female = ['CONNIE','EXPO ANNOUNCER','PEGGY CARTER','SHARON CARTER','RANDOM WOMAN','MANDY','WOMAN','OFFICER',\n",
    "          'ANTIQUE STORE OWNER','MOTHER','HYDRA TECHNICIANS','KIDS IN USO AUDIENECE','ARMY HECKLER#1','ARMY HECKLER#2',\n",
    "          'ARMY HECKLER#3','ARMY HECKLER#4','USO GIRL','BARKEEPER','PVT. LORRAINE','FACILITY MANAGER',]\n",
    "\n",
    "t = []\n",
    "neutral = ['TEXT MESSAGE','OLD FOOTAGE RECORDING','25TH FLOOR STRIKE AGENT','VOICE FROM EARPIECE','KIDS IN USO AUDIENCE',]\n",
    "\n",
    "for i in unique_characters:\n",
    "    if i not in male and i not in female and i not in t and i not in neutral:\n",
    "        print(i)\n",
    "# for i in unique_characters:\n",
    "    # if i in t:\n",
    "        # print(i)"
   ]
  },
  {
   "cell_type": "code",
   "execution_count": 37,
   "metadata": {},
   "outputs": [
    {
     "name": "stdout",
     "output_type": "stream",
     "text": [
      "69\n"
     ]
    }
   ],
   "source": [
    "csv = pd.read_csv(os.path.join(csv_path, filename))\n",
    "all_chars = csv['character'].values\n",
    "all_genders = []\n",
    "for i in all_chars:\n",
    "    if i in male:\n",
    "        all_genders.append(\"MALE\")\n",
    "    elif i in female:\n",
    "        all_genders.append(\"FEMALE\")\n",
    "    elif i in neutral:\n",
    "        all_genders.append(\"NEUTRAL\")\n",
    "    else:\n",
    "        print(i)\n",
    "\n",
    "# print unique characters\n",
    "# print len of unique characters\n",
    "print(len(csv['character'].unique()))\n",
    "for i in csv['character'].unique():\n",
    "    if i in t:\n",
    "        print(i)\n",
    "csv[\"gender\"] = all_genders\n",
    "csv.to_csv(os.path.join(csv_path, filename))"
   ]
  },
  {
   "cell_type": "code",
   "execution_count": 38,
   "metadata": {},
   "outputs": [
    {
     "name": "stdout",
     "output_type": "stream",
     "text": [
      "688\n",
      "688\n"
     ]
    }
   ],
   "source": [
    "print(len(csv['character']))\n",
    "print(len(csv['gender']))"
   ]
  },
  {
   "cell_type": "code",
   "execution_count": null,
   "metadata": {},
   "outputs": [],
   "source": []
  },
  {
   "cell_type": "code",
   "execution_count": null,
   "metadata": {},
   "outputs": [],
   "source": []
  },
  {
   "cell_type": "code",
   "execution_count": null,
   "metadata": {},
   "outputs": [],
   "source": []
  },
  {
   "cell_type": "code",
   "execution_count": null,
   "metadata": {},
   "outputs": [],
   "source": []
  },
  {
   "cell_type": "code",
   "execution_count": null,
   "metadata": {},
   "outputs": [],
   "source": []
  },
  {
   "cell_type": "code",
   "execution_count": null,
   "metadata": {},
   "outputs": [],
   "source": []
  },
  {
   "cell_type": "code",
   "execution_count": null,
   "metadata": {},
   "outputs": [],
   "source": []
  },
  {
   "cell_type": "code",
   "execution_count": 39,
   "metadata": {},
   "outputs": [
    {
     "name": "stdout",
     "output_type": "stream",
     "text": [
      "{'25TH FLOOR STRIKE AGENT', 'TEXT MESSAGE', 'OLD FOOTAGE RECORDING'}\n"
     ]
    }
   ],
   "source": [
    "test_csv = pd.read_csv(\"script_csv/winter_soldier.csv\")\n",
    "\n",
    "temp = []\n",
    "# print all the lines which have gender as NEUTRAL\n",
    "for i in range(len(test_csv['character'])):\n",
    "    if test_csv['gender'][i] == \"NEUTRAL\":\n",
    "        temp.append(test_csv['character'][i])\n",
    "print(set(temp))\n",
    "\n",
    "# males = ['CLINT BARTON','JAMES RHODES','TONY STARK','STEVE ROGERS','THANOS','THOR','BRUCE BANNER','SCOTT LANG','JAMES RHODES','PETER QUILL','PETER PARKER','NICK FURY','TANELEER TIVAN','DRAX','GROOT','ROCKET','EBONY MAW','CORVUS GLAIVE','CULL OBSIDIAN','HOWARD STARK','EDWIN JARVIS','ALEXANDER PIERCE']\n",
    "# female = ['NEBULA','NATASHA ROMANOFF','CAROL DANVERS','WANDA MAXIMOFF','FRIGGA','PEPPER POTTS','SHURI','OKOYE','JANE FOSTER','MARIA HILL','VALKYRIE','MANTIS','THE ANCIENT ONE','HOPE VAN DYNE','JANET VAN DYNE','PEPPER POTTS','MORGAN STARK','HARLEY KEENER']\n",
    "\n",
    "# gender = []\n",
    "# for i in range(len(test_csv['character'])):\n",
    "#     if test_csv['gender'][i] == \"NEUTRAL\":\n",
    "#         if test_csv['character'][i] in males:\n",
    "#             gender.append('MALE')\n",
    "#         elif test_csv['character'][i] in female:\n",
    "#             gender.append('FEMALE')\n",
    "#         else:\n",
    "#             gender.append('NEUTRAL')\n",
    "#     else:\n",
    "#         gender.append(test_csv['gender'][i])\n",
    "\n",
    "# test_csv['gender'] = gender\n",
    "# test_csv.to_csv(\"script_csv/avengers_endgame.csv\")\n",
    "\n"
   ]
  },
  {
   "cell_type": "code",
   "execution_count": null,
   "metadata": {},
   "outputs": [],
   "source": []
  }
 ],
 "metadata": {
  "kernelspec": {
   "display_name": "dl",
   "language": "python",
   "name": "python3"
  },
  "language_info": {
   "codemirror_mode": {
    "name": "ipython",
    "version": 3
   },
   "file_extension": ".py",
   "mimetype": "text/x-python",
   "name": "python",
   "nbconvert_exporter": "python",
   "pygments_lexer": "ipython3",
   "version": "3.11.7"
  }
 },
 "nbformat": 4,
 "nbformat_minor": 2
}
