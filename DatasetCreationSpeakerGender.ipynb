{
 "cells": [
  {
   "cell_type": "code",
   "execution_count": 34,
   "metadata": {},
   "outputs": [],
   "source": [
    "import os\n",
    "import pandas as pd\n",
    "from tqdm import tqdm\n",
    "\n",
    "# black panther"
   ]
  },
  {
   "cell_type": "code",
   "execution_count": 42,
   "metadata": {},
   "outputs": [
    {
     "name": "stdout",
     "output_type": "stream",
     "text": [
      "Processed: civil_war.csv\n",
      "Total characters: 52\n",
      "Unique characters: 52\n",
      "['VASILY KARPOV', 'BUCKY BARNES', 'STEVE ROGERS', 'WANDA MAXIMOFF', 'NATASHA ROMANOFF', 'SAM WILSON', 'BROCK RUMLOW', 'MERCENARY', 'MERCENARY #1', 'MERCENARY #2', 'MARIA STARK', 'HOWARD STARK', 'YOUNG TONY STARK', 'TONY STARK', 'MIT TEACHER', \"STARK'S ASSISTANT\", 'MRS. SPENCER', 'MRS SPENCER', 'NEWS ANCHOR #1', \"KING T'CHAKA\", 'NEWS ANCHOR #2', 'VISION', 'SECRETARY ROSS', 'JAMES RHODES', 'HELMUT ZEMO', 'PRIEST', 'SHARON CARTER', 'NEWS ANCHOR #3', 'UN STAFFER', \"T'CHALLA\", 'MAN ON SPEAKERS', 'NEWS ANCHOR #4', 'GERMAN INNKEEPER', 'GSG-9 SOLDIER', 'GSG-9 DRIVER', 'EVERETT ROSS', 'DELIVERY TRUCK DRIVER', 'CUSTODIAN', 'MAN ON PA #1', \"ZEMO'S WIFE\", 'NEWS ANCHOR #5', 'JOSEF / SUPER SOLDIER #1', 'PETER PARKER', 'MAY PARKER', 'CLINT BARTON', 'ATTACHE', 'SECURITY CHIEF', 'SCOTT LANG', 'MAN ON PA #2', 'FRIDAY', 'GUARD', 'FEDEX DRIVER STAN LEE']\n"
     ]
    }
   ],
   "source": [
    "unique_characters = []\n",
    "\n",
    "csv_path = 'script_csv'\n",
    "filename = 'civil_war.csv'\n",
    "# iterate folder\n",
    "with open(os.path.join(csv_path, filename)) as csv_file:\n",
    "    df = pd.read_csv(csv_file)\n",
    "    unique_characters.extend(df['character'].unique())\n",
    "print('Processed:', filename)\n",
    "\n",
    "\n",
    "print('Total characters:', len(unique_characters))\n",
    "print('Unique characters:', len(set(unique_characters)))\n",
    "print(unique_characters)"
   ]
  },
  {
   "cell_type": "code",
   "execution_count": 43,
   "metadata": {},
   "outputs": [
    {
     "name": "stdout",
     "output_type": "stream",
     "text": [
      "VASILY KARPOV\n",
      "MERCENARY\n",
      "MERCENARY #1\n",
      "MERCENARY #2\n",
      "MARIA STARK\n",
      "YOUNG TONY STARK\n",
      "MIT TEACHER\n",
      "STARK'S ASSISTANT\n",
      "MRS. SPENCER\n",
      "MRS SPENCER\n",
      "NEWS ANCHOR #1\n",
      "KING T'CHAKA\n",
      "NEWS ANCHOR #2\n",
      "VISION\n",
      "SECRETARY ROSS\n",
      "HELMUT ZEMO\n",
      "PRIEST\n",
      "SHARON CARTER\n",
      "NEWS ANCHOR #3\n",
      "UN STAFFER\n",
      "T'CHALLA\n",
      "MAN ON SPEAKERS\n",
      "NEWS ANCHOR #4\n",
      "GERMAN INNKEEPER\n",
      "GSG-9 SOLDIER\n",
      "GSG-9 DRIVER\n",
      "EVERETT ROSS\n",
      "DELIVERY TRUCK DRIVER\n",
      "CUSTODIAN\n",
      "MAN ON PA #1\n",
      "ZEMO'S WIFE\n",
      "NEWS ANCHOR #5\n",
      "JOSEF / SUPER SOLDIER #1\n",
      "MAY PARKER\n",
      "ATTACHE\n",
      "SECURITY CHIEF\n",
      "MAN ON PA #2\n",
      "GUARD\n",
      "FEDEX DRIVER STAN LEE\n"
     ]
    }
   ],
   "source": [
    "male = ['THE OTHER','INTERCOM VOICE','NICK FURY','SELVIG','WEASELLY THUG','COUNCILMAN','SCIENTIST','FACELESS PILOT',\n",
    "        'HELICARRIER INTERCOM','AGENT JASPER SITWELL','GERMAN OLD MAN','FACELESS PILOT','NOVAR','OFF SCREEN WORKER',\n",
    "    'MAINTENANCE GUY','SHIELD AGENT',\n",
    "'    SHIELD AGENT','PHIL COULSON',\n",
    "'YOUNG SHIELD PILOT',\n",
    "'SHIELD WORKER',\n",
    "'SECURITY GUARD',\n",
    "'SHIELD ENGINEER',\n",
    "'YOUNG COP',\n",
    "'POLICE SERGEANT',\n",
    "'JET PILOT',\n",
    "'REPORTER',\n",
    "'MALE REPORTER',\n",
    "'MALE CITIZEN','HUSBAND','THE SENATOR','COUNCILMAN 2',\n",
    "    'GRIEVING MAN','JIMMY','OLDER MAN','BRUCE BANNER','KID','FRIDAY','KORG','AKIHIKO','RONIN','ASTRAL BANNER','LOKI','BROCK RUMLOW',\n",
    "'AGENT SITWELL','SECURITY','STAN LEE','HANK PYM','MALE AGENT','HOODED FIGURE','RED SKULL','SAM WILSON','DR. STRANGE','WONG',\n",
    "'T’CHALLA','HAPPY HOGAN','BUCKY BARNES','CARRIER BRIDGE TECH 1',''\n",
    "    'CLINT BARTON','TONY STARK','STEVE ROGERS','THANOS','THOR','BRUCE BANNER','SCOTT LANG','JAMES RHODES','PETER QUILL','PETER PARKER','NICK FURY','TANELEER TIVAN','DRAX','GROOT','ROCKET','EBONY MAW','CORVUS GLAIVE','CULL OBSIDIAN','HOWARD STARK','EDWIN JARVIS','ALEXANDER PIERCE','JARVIS']\n",
    "\n",
    "\n",
    "female = ['NASA SCIENTIST','GEORGI LUCHKOV','CALCUTTA WOMAN','YOUNG GIRL','COUNCILWOMAN','FEMALE CARRIER BRIDGE TECH',\n",
    "    'CASSIE LANG','ANCIENT ONE','MAIDEN','GAMORA','FEMALE SHIELD AGENT','PEGGY CARTER','WANDA','NEBULA',\n",
    "'FEMALE CITIZEN','WIFE',\n",
    "\n",
    "'WAITRESS',\n",
    "    'LILA BARTON','LAURA BARTON','NATASHA ROMANOFF','CAROL DANVERS','WANDA MAXIMOFF','FRIGGA','PEPPER POTTS','SHURI','OKOYE','JANE FOSTER','MARIA HILL','VALKYRIE','MANTIS','THE ANCIENT ONE','HOPE VAN DYNE','JANET VAN DYNE','PEPPER POTTS','MORGAN STARK','HARLEY KEENER']\n",
    "\n",
    "\n",
    "t = ['FURY','BARTON','NATASHA','BANNER','CAPTAIN AMERICA','STEVE','IRON MAN','PEPPER','TONY','AGENT COULSON','PILOT','HULK']\n",
    "neutral = ['PARTY GUEST','M.P.','MUFFLED VOICE',]\n",
    "\n",
    "for i in unique_characters:\n",
    "    if i not in male and i not in female and i not in t and i not in neutral:\n",
    "        print(i)\n",
    "# for i in unique_characters:\n",
    "    # if i in t:\n",
    "        # print(i)"
   ]
  },
  {
   "cell_type": "code",
   "execution_count": 44,
   "metadata": {},
   "outputs": [
    {
     "name": "stdout",
     "output_type": "stream",
     "text": [
      "52\n"
     ]
    }
   ],
   "source": [
    "csv = pd.read_csv(os.path.join(csv_path, filename))\n",
    "csv['character'] = csv['character'].replace(\"FURY\",'NICK FURY')\n",
    "csv['character'] = csv['character'].replace(\"BARTON\",'CLINT BARTON')\n",
    "csv['character'] = csv['character'].replace(\"NATASHA\",'NATASHA ROMANOFF')\n",
    "csv['character'] = csv['character'].replace(\"BANNER\",'BRUCE BANNER')\n",
    "csv['character'] = csv['character'].replace(\"CAPTAIN AMERICA\",'STEVE ROGERS')\n",
    "csv['character'] = csv['character'].replace(\"STEVE\",'STEVE ROGERS')\n",
    "csv['character'] = csv['character'].replace(\"TONY\",'TONY STARK')\n",
    "csv['character'] = csv['character'].replace(\"IRON MAN\",'TONY STARK')\n",
    "csv['character'] = csv['character'].replace(\"PEPPER\",'PEPPER POTTS')\n",
    "csv['character'] = csv['character'].replace(\"AGENT COULSON\",'PHIL COULSON')\n",
    "csv['character'] = csv['character'].replace(\"PILOT\",'JET PILOT')\n",
    "csv['character'] = csv['character'].replace(\"HULK\",'BRUCE BANNER')\n",
    "\n",
    "all_chars = csv['character'].values\n",
    "all_genders = []\n",
    "for i in all_chars:\n",
    "    if i in male:\n",
    "        all_genders.append(\"MALE\")\n",
    "    elif i in female:\n",
    "        all_genders.append(\"FEMALE\")\n",
    "    else:\n",
    "        all_genders.append(\"NEUTRAL\")\n",
    "\n",
    "# print unique characters\n",
    "# print len of unique characters\n",
    "print(len(csv['character'].unique()))\n",
    "csv[\"gender\"] = all_genders\n",
    "csv.to_csv(os.path.join(csv_path, filename))"
   ]
  },
  {
   "cell_type": "code",
   "execution_count": 38,
   "metadata": {},
   "outputs": [
    {
     "name": "stdout",
     "output_type": "stream",
     "text": [
      "1027\n",
      "1027\n"
     ]
    }
   ],
   "source": [
    "print(len(csv['character']))\n",
    "print(len(csv['gender']))"
   ]
  },
  {
   "cell_type": "code",
   "execution_count": null,
   "metadata": {},
   "outputs": [],
   "source": []
  },
  {
   "cell_type": "code",
   "execution_count": null,
   "metadata": {},
   "outputs": [],
   "source": []
  },
  {
   "cell_type": "code",
   "execution_count": null,
   "metadata": {},
   "outputs": [],
   "source": []
  },
  {
   "cell_type": "code",
   "execution_count": null,
   "metadata": {},
   "outputs": [],
   "source": []
  },
  {
   "cell_type": "code",
   "execution_count": null,
   "metadata": {},
   "outputs": [],
   "source": []
  },
  {
   "cell_type": "code",
   "execution_count": null,
   "metadata": {},
   "outputs": [],
   "source": []
  },
  {
   "cell_type": "code",
   "execution_count": null,
   "metadata": {},
   "outputs": [],
   "source": []
  },
  {
   "cell_type": "code",
   "execution_count": 39,
   "metadata": {},
   "outputs": [
    {
     "name": "stdout",
     "output_type": "stream",
     "text": [
      "set()\n"
     ]
    }
   ],
   "source": [
    "test_csv = pd.read_csv(\"script_csv/avengers.csv\")\n",
    "\n",
    "temp = []\n",
    "# print all the lines which have gender as NEUTRAL\n",
    "for i in range(len(test_csv['character'])):\n",
    "    if test_csv['gender'][i] == \"NEUTRAL\":\n",
    "        temp.append(test_csv['character'][i])\n",
    "print(set(temp))\n",
    "\n",
    "# males = ['CLINT BARTON','JAMES RHODES','TONY STARK','STEVE ROGERS','THANOS','THOR','BRUCE BANNER','SCOTT LANG','JAMES RHODES','PETER QUILL','PETER PARKER','NICK FURY','TANELEER TIVAN','DRAX','GROOT','ROCKET','EBONY MAW','CORVUS GLAIVE','CULL OBSIDIAN','HOWARD STARK','EDWIN JARVIS','ALEXANDER PIERCE']\n",
    "# female = ['NEBULA','NATASHA ROMANOFF','CAROL DANVERS','WANDA MAXIMOFF','FRIGGA','PEPPER POTTS','SHURI','OKOYE','JANE FOSTER','MARIA HILL','VALKYRIE','MANTIS','THE ANCIENT ONE','HOPE VAN DYNE','JANET VAN DYNE','PEPPER POTTS','MORGAN STARK','HARLEY KEENER']\n",
    "\n",
    "# gender = []\n",
    "# for i in range(len(test_csv['character'])):\n",
    "#     if test_csv['gender'][i] == \"NEUTRAL\":\n",
    "#         if test_csv['character'][i] in males:\n",
    "#             gender.append('MALE')\n",
    "#         elif test_csv['character'][i] in female:\n",
    "#             gender.append('FEMALE')\n",
    "#         else:\n",
    "#             gender.append('NEUTRAL')\n",
    "#     else:\n",
    "#         gender.append(test_csv['gender'][i])\n",
    "\n",
    "# test_csv['gender'] = gender\n",
    "# test_csv.to_csv(\"script_csv/avengers_endgame.csv\")\n",
    "\n"
   ]
  },
  {
   "cell_type": "code",
   "execution_count": null,
   "metadata": {},
   "outputs": [],
   "source": []
  }
 ],
 "metadata": {
  "kernelspec": {
   "display_name": "dl",
   "language": "python",
   "name": "python3"
  },
  "language_info": {
   "codemirror_mode": {
    "name": "ipython",
    "version": 3
   },
   "file_extension": ".py",
   "mimetype": "text/x-python",
   "name": "python",
   "nbconvert_exporter": "python",
   "pygments_lexer": "ipython3",
   "version": "3.11.7"
  }
 },
 "nbformat": 4,
 "nbformat_minor": 2
}
